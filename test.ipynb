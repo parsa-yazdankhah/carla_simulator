{
 "cells": [
  {
   "cell_type": "code",
   "execution_count": null,
   "metadata": {},
   "outputs": [],
   "source": [
    "import glob \n",
    "import os\n",
    "import sys\n",
    "\n",
    "try:\n",
    "    sys.path.append(glob.glob('../carla/dist/carla-*%d.%d-%s.egg' % (\n",
    "        sys.version_info.major,\n",
    "        sys.version_info.minor,\n",
    "        'win-amd64' if os.name == 'nt' else 'linux-x86_64'))[0])\n",
    "except IndexError:\n",
    "    pass\n",
    "\n",
    "import carla\n",
    "import random\n",
    "import time\n",
    "import threading\n",
    "import queue\n",
    "import numpy as np"
   ]
  },
  {
   "cell_type": "markdown",
   "metadata": {},
   "source": [
    "Connect to the server and initialize synchronous mode"
   ]
  },
  {
   "cell_type": "code",
   "execution_count": null,
   "metadata": {},
   "outputs": [],
   "source": [
    "client = carla.Client('localhost', 2000)\n",
    "client.set_timeout(2.0)\n",
    "\n",
    "world = client.get_world()"
   ]
  },
  {
   "cell_type": "code",
   "execution_count": null,
   "metadata": {},
   "outputs": [],
   "source": [
    "# Create a synchronous mode context\n",
    "settings = world.get_settings()\n",
    "settings.synchronous_mode = True\n",
    "settings.fixed_delta_seconds = 0.1  # Simulation step size in seconds\n",
    "world.apply_settings(settings)"
   ]
  },
  {
   "cell_type": "code",
   "execution_count": null,
   "metadata": {},
   "outputs": [],
   "source": [
    "for actor in world.get_actors():\n",
    "    if actor.type_id[:7] == \"vehicle\":\n",
    "        ego_vehicle = actor"
   ]
  },
  {
   "cell_type": "markdown",
   "metadata": {},
   "source": [
    "Spawn a Second vehicle and set it to autopilot mode"
   ]
  },
  {
   "cell_type": "code",
   "execution_count": null,
   "metadata": {},
   "outputs": [],
   "source": [
    "bp = random.choice(world.get_blueprint_library().filter('*vehicle*'))\n",
    "transform = random.choice(world.get_map().get_spawn_points())\n",
    "second_vehicle = world.try_spawn_actor(bp, transform)\n",
    "second_vehicle.set_autopilot(True)"
   ]
  },
  {
   "cell_type": "markdown",
   "metadata": {},
   "source": [
    "Does imitating second vehicle's behavior work? No"
   ]
  },
  {
   "cell_type": "code",
   "execution_count": null,
   "metadata": {},
   "outputs": [],
   "source": [
    "while True:\n",
    "    ego_vehicle.apply_control(second_vehicle.get_control())"
   ]
  },
  {
   "cell_type": "markdown",
   "metadata": {},
   "source": [
    "Does using `VehiclePIDController` class work? No\n",
    "\n",
    "Reference: agents/navigation/controller.py"
   ]
  },
  {
   "cell_type": "code",
   "execution_count": null,
   "metadata": {},
   "outputs": [],
   "source": [
    "from agents.navigation.controller import VehiclePIDController\n",
    "\n",
    "args = dict(K_P=1, K_I=0, K_D=0)\n",
    "controller = VehiclePIDController(ego_vehicle,args_lateral=args,args_longitudinal=args)\n",
    "map = world.get_map()"
   ]
  },
  {
   "cell_type": "code",
   "execution_count": null,
   "metadata": {},
   "outputs": [],
   "source": [
    "while True:\n",
    "    waypoint = map.get_waypoint(second_vehicle.get_location(),project_to_road=True)\n",
    "\n",
    "    speed = second_vehicle.get_velocity()\n",
    "    target_speed = (speed.x**2 + speed.y**2 + speed.z**2)**0.5\n",
    "\n",
    "    controller.run_step(waypoint=waypoint,target_speed=target_speed)"
   ]
  },
  {
   "cell_type": "markdown",
   "metadata": {},
   "source": [
    "Does using *agents* work? **Yes**\n",
    "\n",
    "Reference: https://carla.readthedocs.io/en/0.9.14/adv_agents/"
   ]
  },
  {
   "cell_type": "code",
   "execution_count": null,
   "metadata": {},
   "outputs": [],
   "source": [
    "from agents.navigation.behavior_agent import BehaviorAgent\n",
    "\n",
    "agent = BehaviorAgent(ego_vehicle, behavior='aggressive')"
   ]
  },
  {
   "cell_type": "code",
   "execution_count": null,
   "metadata": {},
   "outputs": [],
   "source": [
    "agent.ignore_traffic_lights(True)\n",
    "agent.set_destination(second_vehicle.get_location())\n",
    "# Follow second vehicle\n",
    "while True:\n",
    "    if agent.done():\n",
    "        agent.set_destination(second_vehicle.get_location())\n",
    "\n",
    "    ego_vehicle.apply_control(agent.run_step())"
   ]
  },
  {
   "cell_type": "markdown",
   "metadata": {},
   "source": [
    "To store desired data in seperate files in the *out* folder"
   ]
  },
  {
   "cell_type": "code",
   "execution_count": null,
   "metadata": {},
   "outputs": [],
   "source": [
    "def process_data(queue_data, output_folder):\n",
    "    while True:\n",
    "        try:\n",
    "            # Wait for 1 second for data to be available in the queue\n",
    "            data = queue_data.get(timeout=1.0)  \n",
    "\n",
    "            # Create a filename using the timestamp of the data\n",
    "            timestamp = str(int(time.time() * 1000))  # Milliseconds since epoch\n",
    "            filename = os.path.join(output_folder, f'data_{timestamp}.txt')\n",
    "\n",
    "            # Write the data to the file\n",
    "            with open(filename, 'w') as f:\n",
    "                f.write(str(data))\n",
    "\n",
    "        except queue.Empty:\n",
    "            continue"
   ]
  },
  {
   "cell_type": "code",
   "execution_count": null,
   "metadata": {},
   "outputs": [],
   "source": [
    "output_folder = '/home/parsa/Cheetah/carla_simulator/out'\n",
    "if not os.path.exists(output_folder):\n",
    "    os.makedirs(output_folder)"
   ]
  },
  {
   "cell_type": "code",
   "execution_count": null,
   "metadata": {},
   "outputs": [],
   "source": [
    "# Set up the data processing thread\n",
    "data_queue = queue.Queue()\n",
    "data_thread = threading.Thread(target=process_data, args=(data_queue, output_folder))\n",
    "data_thread.start()"
   ]
  },
  {
   "cell_type": "code",
   "execution_count": null,
   "metadata": {},
   "outputs": [],
   "source": [
    "record_time = 60 # Seconds\n",
    "time0 = time.time()\n",
    "while True:  \n",
    "    # Put the data into the queue\n",
    "    data = {\n",
    "        'vehicle_location': (ego_vehicle.get_location().x,ego_vehicle.get_location().y,ego_vehicle.get_location().z),\n",
    "    }\n",
    "    data_queue.put(data)\n",
    "\n",
    "    time1 = time.time()\n",
    "    if (time1-time0) > record_time:\n",
    "        break"
   ]
  },
  {
   "cell_type": "markdown",
   "metadata": {},
   "source": [
    "Attempt to draw boxes around vehicles\n",
    "\n",
    "https://github.com/carla-simulator/carla/issues/1212    (didn't work - should be debugged)"
   ]
  },
  {
   "cell_type": "code",
   "execution_count": null,
   "metadata": {},
   "outputs": [],
   "source": [
    "crashed = False\n",
    "while not crashed:\n",
    "    world.wait_for_tick()\n",
    "    for vehicle in world.get_actors().filter(\"vehicle*\"):\n",
    "        transform = vehicle.get_transform()\n",
    "        bounding_box = vehicle.bounding_box\n",
    "        bounding_box.location += transform.location\n",
    "        world.debug.draw_box(bounding_box, transform.rotation)\n",
    "        if vehicle != ego_vehicle:\n",
    "            distance = ego_vehicle.get_location().distance(vehicle.get_location())\n",
    "            world.debug.draw_string(vehicle.get_location(), f'{distance:.1f} m')"
   ]
  },
  {
   "cell_type": "code",
   "execution_count": null,
   "metadata": {},
   "outputs": [],
   "source": [
    "crashed = False\n",
    "while not crashed:\n",
    "    for vehicle in world.get_actors().filter(\"vehicle*\"):\n",
    "        if vehicle != ego_vehicle:\n",
    "            distance = ego_vehicle.get_location().distance(vehicle.get_location())\n",
    "            if distance < 100:\n",
    "                loc = vehicle.get_location()\n",
    "                loc.z += 4\n",
    "                world.debug.draw_string(loc, f'{distance:.1f} m')"
   ]
  },
  {
   "cell_type": "markdown",
   "metadata": {},
   "source": [
    "Reference: https://carla.readthedocs.io/en/latest/tuto_G_bounding_boxes/  (worked properly)"
   ]
  },
  {
   "cell_type": "code",
   "execution_count": null,
   "metadata": {},
   "outputs": [],
   "source": [
    "import carla\n",
    "import math\n",
    "import random\n",
    "import time\n",
    "import queue\n",
    "import numpy as np\n",
    "import cv2\n",
    "\n",
    "client = carla.Client('localhost', 2000)\n",
    "world  = client.get_world()\n",
    "bp_lib = world.get_blueprint_library()\n",
    "\n",
    "# spawn vehicle\n",
    "vehicle_bp =bp_lib.find('vehicle.lincoln.mkz_2020')\n",
    "vehicle = world.try_spawn_actor(vehicle_bp, random.choice(world.get_map().get_spawn_points()))\n",
    "\n",
    "# spawn camera\n",
    "camera_bp = bp_lib.find('sensor.camera.rgb')\n",
    "camera_init_trans = carla.Transform(carla.Location(z=2))\n",
    "camera = world.spawn_actor(camera_bp, camera_init_trans, attach_to=vehicle)\n",
    "vehicle.set_autopilot(True)\n",
    "\n",
    "# Set up the simulator in synchronous mode\n",
    "settings = world.get_settings()\n",
    "settings.synchronous_mode = True # Enables synchronous mode\n",
    "settings.fixed_delta_seconds = 0.05\n",
    "world.apply_settings(settings)\n",
    "\n",
    "for i in range(10):\n",
    "    bp = random.choice(world.get_blueprint_library().filter('*vehicle*'))\n",
    "    transform = random.choice(world.get_map().get_spawn_points())\n",
    "    vv = world.try_spawn_actor(bp, transform)\n",
    "    vv.set_autopilot(True)\n",
    "\n",
    "# Create a queue to store and retrieve the sensor data\n",
    "image_queue = queue.Queue()\n",
    "camera.listen(image_queue.put)\n",
    "\n",
    "edges = [[0,1], [1,3], [3,2], [2,0], [0,4], [4,5], [5,1], [5,7], [7,6], [6,4], [6,2], [7,3]]\n"
   ]
  },
  {
   "cell_type": "code",
   "execution_count": null,
   "metadata": {},
   "outputs": [],
   "source": [
    "def get_image_point(loc, K, w2c):\n",
    "        # Calculate 2D projection of 3D coordinate\n",
    "\n",
    "        # Format the input coordinate (loc is a carla.Position object)\n",
    "        point = np.array([loc.x, loc.y, loc.z, 1])\n",
    "        # transform to camera coordinates\n",
    "        point_camera = np.dot(w2c, point)\n",
    "\n",
    "        # New we must change from UE4's coordinate system to an \"standard\"\n",
    "        # (x, y ,z) -> (y, -z, x)\n",
    "        # and we remove the fourth componebonent also\n",
    "        point_camera = [point_camera[1], -point_camera[2], point_camera[0]]\n",
    "\n",
    "        # now project 3D->2D using the camera matrix\n",
    "        point_img = np.dot(K, point_camera)\n",
    "        # normalize\n",
    "        point_img[0] /= point_img[2]\n",
    "        point_img[1] /= point_img[2]\n",
    "\n",
    "        return point_img[0:2]"
   ]
  },
  {
   "cell_type": "code",
   "execution_count": null,
   "metadata": {},
   "outputs": [],
   "source": [
    "def build_projection_matrix(w, h, fov):\n",
    "    focal = w / (2.0 * np.tan(fov * np.pi / 360.0))\n",
    "    K = np.identity(3)\n",
    "    K[0, 0] = K[1, 1] = focal\n",
    "    K[0, 2] = w / 2.0\n",
    "    K[1, 2] = h / 2.0\n",
    "    return K"
   ]
  },
  {
   "cell_type": "markdown",
   "metadata": {},
   "source": [
    "3D boxes around vehicles"
   ]
  },
  {
   "cell_type": "code",
   "execution_count": null,
   "metadata": {},
   "outputs": [],
   "source": [
    "# 3D\n",
    "while True:\n",
    "    # Retrieve and reshape the image\n",
    "    world.tick()\n",
    "    image = image_queue.get()\n",
    "\n",
    "    img = np.reshape(np.copy(image.raw_data), (image.height, image.width, 4))\n",
    "\n",
    "    # Get the camera matrix \n",
    "    world_2_camera = np.array(camera.get_transform().get_inverse_matrix())\n",
    "    # Get the attributes from the camera\n",
    "    image_w = camera_bp.get_attribute(\"image_size_x\").as_int()\n",
    "    image_h = camera_bp.get_attribute(\"image_size_y\").as_int()\n",
    "    fov = camera_bp.get_attribute(\"fov\").as_float()\n",
    "\n",
    "    # Calculate the camera projection matrix to project from 3D -> 2D\n",
    "    K = build_projection_matrix(image_w, image_h, fov)\n",
    "\n",
    "    for npc in world.get_actors().filter('*vehicle*'):\n",
    "\n",
    "        # Filter out the ego vehicle\n",
    "        if npc.id != vehicle.id:\n",
    "\n",
    "            bb = npc.bounding_box\n",
    "            dist = npc.get_transform().location.distance(vehicle.get_transform().location)\n",
    "\n",
    "            # Filter for the vehicles within 50m\n",
    "            if dist < 50:\n",
    "\n",
    "            # Calculate the dot product between the forward vector\n",
    "            # of the vehicle and the vector between the vehicle\n",
    "            # and the other vehicle. We threshold this dot product\n",
    "            # to limit to drawing bounding boxes IN FRONT OF THE CAMERA\n",
    "                forward_vec = vehicle.get_transform().get_forward_vector()\n",
    "                ray = npc.get_transform().location - vehicle.get_transform().location\n",
    "\n",
    "                if forward_vec.dot(ray) > 1:\n",
    "                    p1 = get_image_point(bb.location, K, world_2_camera)\n",
    "                    verts = [v for v in bb.get_world_vertices(npc.get_transform())]\n",
    "                    for edge in edges:\n",
    "                        p1 = get_image_point(verts[edge[0]], K, world_2_camera)\n",
    "                        p2 = get_image_point(verts[edge[1]],  K, world_2_camera)\n",
    "                        cv2.line(img, (int(p1[0]),int(p1[1])), (int(p2[0]),int(p2[1])), (255,0,0, 255), 1)        \n",
    "\n",
    "    cv2.imshow('ImageWindowName',img)\n",
    "    if cv2.waitKey(1) == ord('q'):\n",
    "        break\n",
    "cv2.destroyAllWindows()"
   ]
  },
  {
   "cell_type": "markdown",
   "metadata": {},
   "source": [
    "2D boxes around vehicles"
   ]
  },
  {
   "cell_type": "code",
   "execution_count": null,
   "metadata": {},
   "outputs": [],
   "source": [
    "# 2D\n",
    "while True:\n",
    "\n",
    "    # Retrieve and reshape the image\n",
    "    world.tick()\n",
    "    image = image_queue.get()\n",
    "\n",
    "    img = np.reshape(np.copy(image.raw_data), (image.height, image.width, 4))\n",
    "\n",
    "    # Get the camera matrix \n",
    "    world_2_camera = np.array(camera.get_transform().get_inverse_matrix())\n",
    "    # Get the attributes from the camera\n",
    "    image_w = camera_bp.get_attribute(\"image_size_x\").as_int()\n",
    "    image_h = camera_bp.get_attribute(\"image_size_y\").as_int()\n",
    "    fov = camera_bp.get_attribute(\"fov\").as_float()\n",
    "\n",
    "    # Calculate the camera projection matrix to project from 3D -> 2D\n",
    "    K = build_projection_matrix(image_w, image_h, fov)\n",
    "\n",
    "    for npc in world.get_actors().filter('*vehicle*'):\n",
    "\n",
    "        # Filter out the ego vehicle\n",
    "        if npc.id != vehicle.id:\n",
    "\n",
    "            bb = npc.bounding_box\n",
    "            dist = npc.get_transform().location.distance(vehicle.get_transform().location)\n",
    "\n",
    "            # Filter for the vehicles within 50m\n",
    "            if dist < 50:\n",
    "\n",
    "            # Calculate the dot product between the forward vector\n",
    "            # of the vehicle and the vector between the vehicle\n",
    "            # and the other vehicle. We threshold this dot product\n",
    "            # to limit to drawing bounding boxes IN FRONT OF THE CAMERA\n",
    "                forward_vec = vehicle.get_transform().get_forward_vector()\n",
    "                ray = npc.get_transform().location - vehicle.get_transform().location\n",
    "\n",
    "                if forward_vec.dot(ray) > 1:\n",
    "                    p1 = get_image_point(bb.location, K, world_2_camera)\n",
    "                    verts = [v for v in bb.get_world_vertices(npc.get_transform())]\n",
    "                    x_max = -10000\n",
    "                    x_min = 10000\n",
    "                    y_max = -10000\n",
    "                    y_min = 10000\n",
    "\n",
    "                    for vert in verts:\n",
    "                        p = get_image_point(vert, K, world_2_camera)\n",
    "                        # Find the rightmost vertex\n",
    "                        if p[0] > x_max:\n",
    "                            x_max = p[0]\n",
    "                        # Find the leftmost vertex\n",
    "                        if p[0] < x_min:\n",
    "                            x_min = p[0]\n",
    "                        # Find the highest vertex\n",
    "                        if p[1] > y_max:\n",
    "                            y_max = p[1]\n",
    "                        # Find the lowest  vertex\n",
    "                        if p[1] < y_min:\n",
    "                            y_min = p[1]\n",
    "\n",
    "                    cv2.line(img, (int(x_min),int(y_min)), (int(x_max),int(y_min)), (0,0,255, 255), 1)\n",
    "                    cv2.line(img, (int(x_min),int(y_max)), (int(x_max),int(y_max)), (0,0,255, 255), 1)\n",
    "                    cv2.line(img, (int(x_min),int(y_min)), (int(x_min),int(y_max)), (0,0,255, 255), 1)\n",
    "                    cv2.line(img, (int(x_max),int(y_min)), (int(x_max),int(y_max)), (0,0,255, 255), 1)\n",
    "\n",
    "\n",
    "    cv2.imshow('ImageWindowName',img)\n",
    "    if cv2.waitKey(1) == ord('q'):\n",
    "        break\n",
    "cv2.destroyAllWindows()"
   ]
  },
  {
   "cell_type": "code",
   "execution_count": null,
   "metadata": {},
   "outputs": [],
   "source": []
  },
  {
   "cell_type": "markdown",
   "metadata": {},
   "source": [
    "For camera calibration, vehicle sizing procedure"
   ]
  },
  {
   "cell_type": "code",
   "execution_count": null,
   "metadata": {},
   "outputs": [],
   "source": [
    "import carla\n",
    "import math\n",
    "import random\n",
    "import time\n",
    "import queue\n",
    "import numpy as np\n",
    "import cv2\n",
    "\n",
    "client = carla.Client('localhost', 2000)\n",
    "world  = client.get_world()\n",
    "bp_lib = world.get_blueprint_library()\n",
    "\n",
    "for actor in world.get_actors():\n",
    "    if actor.type_id[:7] == \"vehicle\":\n",
    "        vehicle = actor"
   ]
  },
  {
   "cell_type": "code",
   "execution_count": null,
   "metadata": {},
   "outputs": [],
   "source": [
    "bounding_box = ego_vehicle.bounding_box\n",
    "verts = [v for v in bounding_box.get_world_vertices(ego_vehicle.get_transform())]\n",
    "for v in verts:\n",
    "    print(v)"
   ]
  },
  {
   "cell_type": "code",
   "execution_count": null,
   "metadata": {},
   "outputs": [],
   "source": []
  },
  {
   "cell_type": "code",
   "execution_count": null,
   "metadata": {},
   "outputs": [],
   "source": []
  },
  {
   "cell_type": "markdown",
   "metadata": {},
   "source": [
    "Extract Local speed of vehicle "
   ]
  },
  {
   "cell_type": "code",
   "execution_count": null,
   "metadata": {},
   "outputs": [],
   "source": [
    "import carla\n",
    "import random\n",
    "import time\n",
    "import numpy as np\n",
    "\n",
    "client = carla.Client('localhost', 2000)\n",
    "client.set_timeout(2.0)\n",
    "world = client.get_world()\n",
    "\n",
    "# Create a synchronous mode context\n",
    "settings = world.get_settings()\n",
    "settings.synchronous_mode = True\n",
    "settings.fixed_delta_seconds = 0.1  # Simulation step size in seconds\n",
    "world.apply_settings(settings)"
   ]
  },
  {
   "cell_type": "code",
   "execution_count": null,
   "metadata": {},
   "outputs": [],
   "source": [
    "ego_vehicle = None\n",
    "while ego_vehicle is None:\n",
    "    print(\"Waiting for the ego vehicle...\")\n",
    "    time.sleep(1)\n",
    "    possible_vehicles = world.get_actors().filter('vehicle.*')\n",
    "    for vehicle in possible_vehicles:\n",
    "        if vehicle.attributes['role_name'] == 'hero':\n",
    "            print(\"Ego vehicle found\")\n",
    "            ego_vehicle = vehicle\n",
    "            break"
   ]
  },
  {
   "cell_type": "code",
   "execution_count": null,
   "metadata": {},
   "outputs": [],
   "source": [
    "bp = random.choice(world.get_blueprint_library().filter('*vehicle*'))\n",
    "transform = random.choice(world.get_map().get_spawn_points())\n",
    "transform.location.x = -90\n",
    "transform.location.y = 25.5\n",
    "transform.rotation.roll = 0\n",
    "transform.rotation.pitch = 0\n",
    "transform.rotation.yaw = 0\n",
    "ego_vehicle = world.try_spawn_actor(bp, transform)\n",
    "if ego_vehicle != None:\n",
    "    ego_vehicle.set_autopilot(True)\n",
    "    print(ego_vehicle.type_id)"
   ]
  },
  {
   "cell_type": "code",
   "execution_count": null,
   "metadata": {},
   "outputs": [],
   "source": [
    "print(ego_vehicle.get_transform())"
   ]
  },
  {
   "cell_type": "code",
   "execution_count": null,
   "metadata": {},
   "outputs": [],
   "source": [
    "print(random.choice(world.get_map().get_spawn_points()))"
   ]
  },
  {
   "cell_type": "code",
   "execution_count": null,
   "metadata": {},
   "outputs": [],
   "source": [
    "m = vehicle.get_transform().get_matrix()\n",
    "i = np.linalg.inv(m)\n",
    "\n",
    "im = vehicle.get_transform().get_inverse_matrix()\n",
    "\n",
    "print(m)\n",
    "print(i)\n",
    "print(im)"
   ]
  },
  {
   "cell_type": "code",
   "execution_count": null,
   "metadata": {},
   "outputs": [],
   "source": [
    "global_velocity = vehicle.get_velocity()\n",
    "velocity = np.array([global_velocity.x,\n",
    "                    global_velocity.y,\n",
    "                    global_velocity.z])\n",
    "    \n",
    "# Get the vehicle's transform (position and rotation)\n",
    "rotation_matrix = np.array(vehicle.get_transform().get_matrix())\n",
    "rotation_matrix.reshape(4, 4)\n",
    "rotation_matrix[0:3, 3] = 0.0\n",
    "\n",
    "# Calculate the inverse rotation matrix\n",
    "inv_rotation_matrix = np.linalg.inv(rotation_matrix)\n",
    "\n",
    "# Convert global velocity to local velocity\n",
    "local_velocity = np.dot(inv_rotation_matrix, global_velocity)"
   ]
  },
  {
   "cell_type": "code",
   "execution_count": null,
   "metadata": {},
   "outputs": [],
   "source": [
    "t = vehicle.get_transform()\n",
    "print(t.get_forward_vector())"
   ]
  },
  {
   "cell_type": "code",
   "execution_count": null,
   "metadata": {},
   "outputs": [],
   "source": [
    "print(t.location)"
   ]
  },
  {
   "cell_type": "code",
   "execution_count": null,
   "metadata": {},
   "outputs": [],
   "source": [
    "velocity = vehicle.get_velocity()\n",
    "speed = (velocity.x**2 + velocity.y**2 + velocity.z**2)**0.5\n",
    "print(velocity)\n",
    "t = vehicle.get_transform()\n",
    "print(speed * t.get_forward_vector())"
   ]
  },
  {
   "cell_type": "code",
   "execution_count": null,
   "metadata": {},
   "outputs": [],
   "source": [
    "print(velocity/speed)"
   ]
  },
  {
   "cell_type": "code",
   "execution_count": null,
   "metadata": {},
   "outputs": [],
   "source": [
    "(t.get_forward_vector().x**2 + t.get_forward_vector().y**2 + t.get_forward_vector().z**2)**0.5"
   ]
  },
  {
   "cell_type": "code",
   "execution_count": null,
   "metadata": {},
   "outputs": [],
   "source": [
    "import carla \n",
    "import numpy as np"
   ]
  },
  {
   "cell_type": "code",
   "execution_count": null,
   "metadata": {},
   "outputs": [],
   "source": [
    "def colision_detector(ego_vehicle: carla.Vehicle, second_vehicle: carla.Vehicle):\n",
    "        ego_velocity = ego_vehicle.get_velocity()\n",
    "        ego_velocity_vector = np.array([ego_velocity.x, ego_velocity.y, ego_velocity.z])\n",
    "        second_velocity = second_vehicle.get_velocity()\n",
    "        second_velocity_vector = np.array([second_velocity.x, second_velocity.y, second_velocity.z])\n",
    "        relative_velocity = second_velocity_vector - ego_velocity_vector\n",
    "\n",
    "        ego_transform = ego_vehicle.get_transform()\n",
    "        ego_location = np.array([ego_transform.location.x, ego_transform.location.y, ego_transform.location.z])\n",
    "        second_transform = second_vehicle.get_transform()\n",
    "        second_location = np.array([second_transform.location.x, second_transform.location.y, second_transform.location.z])\n",
    "        relative_distance = second_location - ego_location\n",
    "\n",
    "        refernce_unit_vector = np.array([ego_transform.get_forward_vector().x, ego_transform.get_forward_vector().y,\n",
    "                                         ego_transform.get_forward_vector().z])\n",
    "\n",
    "        relative_velocity_local = np.dot(relative_velocity, refernce_unit_vector)\n",
    "        relative_distance_local = np.dot(relative_distance, refernce_unit_vector)\n",
    "\n",
    "        # t = [relative_distance_local[i]/relative_velocity_local[i] for i in range(2)]\n",
    "        t = relative_distance_local/relative_velocity_local\n",
    "        return t"
   ]
  },
  {
   "cell_type": "code",
   "execution_count": null,
   "metadata": {},
   "outputs": [],
   "source": []
  },
  {
   "cell_type": "code",
   "execution_count": null,
   "metadata": {},
   "outputs": [],
   "source": []
  },
  {
   "cell_type": "code",
   "execution_count": null,
   "metadata": {},
   "outputs": [],
   "source": [
    "import carla\n",
    "import random\n",
    "import time\n",
    "import numpy as np\n",
    "\n",
    "client = carla.Client('localhost', 2000)\n",
    "client.set_timeout(2.0)\n",
    "world = client.get_world()\n",
    "\n",
    "# Create a synchronous mode context\n",
    "settings = world.get_settings()\n",
    "settings.synchronous_mode = True\n",
    "settings.fixed_delta_seconds = 0.1  # Simulation step size in seconds\n",
    "world.apply_settings(settings)\n"
   ]
  },
  {
   "cell_type": "code",
   "execution_count": null,
   "metadata": {},
   "outputs": [],
   "source": [
    "\n",
    "ego_vehicle = None\n",
    "while ego_vehicle is None:\n",
    "    print(\"Waiting for the ego vehicle...\")\n",
    "    time.sleep(1)\n",
    "    possible_vehicles = world.get_actors().filter('vehicle.*')\n",
    "    for vehicle in possible_vehicles:\n",
    "        if vehicle.attributes['role_name'] == 'hero':\n",
    "            print(\"Ego vehicle found\")\n",
    "            ego_vehicle = vehicle\n",
    "            break\n"
   ]
  },
  {
   "cell_type": "code",
   "execution_count": null,
   "metadata": {},
   "outputs": [],
   "source": [
    "\n",
    "vehicles = []\n",
    "for i in range(1):\n",
    "    bp = random.choice(world.get_blueprint_library().filter('*vehicle*'))\n",
    "    transform = random.choice(world.get_map().get_spawn_points())\n",
    "    transform = random.choice(world.get_map().get_spawn_points())\n",
    "    transform.location.x = -80\n",
    "    transform.location.y = 25.5\n",
    "    transform.rotation.roll = 0\n",
    "    transform.rotation.pitch = 0\n",
    "    transform.rotation.yaw = 0\n",
    "    tmp_vehicle = world.try_spawn_actor(bp, transform)\n",
    "    if tmp_vehicle != None:\n",
    "        tmp_vehicle.set_autopilot(False)\n",
    "        vehicles.append(tmp_vehicle)\n"
   ]
  },
  {
   "cell_type": "code",
   "execution_count": null,
   "metadata": {},
   "outputs": [],
   "source": [
    "second_vehicle = tmp_vehicle"
   ]
  },
  {
   "cell_type": "code",
   "execution_count": null,
   "metadata": {},
   "outputs": [],
   "source": [
    "print(world.get_actors().filter('*vehicle*'))"
   ]
  },
  {
   "cell_type": "code",
   "execution_count": null,
   "metadata": {},
   "outputs": [],
   "source": [
    "second_vehicle = world.get_actor(39)\n",
    "second_vehicle.type_id"
   ]
  },
  {
   "cell_type": "code",
   "execution_count": null,
   "metadata": {},
   "outputs": [],
   "source": [
    "second_vehicle_control = second_vehicle.get_control()\n",
    "second_vehicle_control.throttle = 0.2\n",
    "second_vehicle_control.reverse = False\n",
    "second_vehicle.apply_control(second_vehicle_control)\n"
   ]
  },
  {
   "cell_type": "code",
   "execution_count": null,
   "metadata": {},
   "outputs": [],
   "source": [
    "ego_vehicle_control = ego_vehicle.get_control()\n",
    "ego_vehicle_control.throttle = 0.33\n",
    "ego_vehicle.apply_control(ego_vehicle_control)"
   ]
  },
  {
   "cell_type": "code",
   "execution_count": null,
   "metadata": {},
   "outputs": [],
   "source": [
    "while True:\n",
    "    ego_velocity = ego_vehicle.get_velocity()\n",
    "    ego_velocity_vector = np.array([ego_velocity.x, ego_velocity.y, ego_velocity.z])\n",
    "    second_velocity = second_vehicle.get_velocity()\n",
    "    second_velocity_vector = np.array([second_velocity.x, second_velocity.y, second_velocity.z])\n",
    "    relative_velocity = second_velocity_vector - ego_velocity_vector\n",
    "\n",
    "    ego_transform = ego_vehicle.get_transform()\n",
    "    ego_location = np.array([ego_transform.location.x, ego_transform.location.y, ego_transform.location.z])\n",
    "    second_transform = second_vehicle.get_transform()\n",
    "    second_location = np.array([second_transform.location.x, second_transform.location.y, second_transform.location.z])\n",
    "    relative_distance = second_location - ego_location\n",
    "\n",
    "    refernce_unit_vector = np.array([ego_transform.get_forward_vector().x, ego_transform.get_forward_vector().y,\n",
    "                                        ego_transform.get_forward_vector().z])\n",
    "\n",
    "    relative_velocity_local = np.dot(relative_velocity, refernce_unit_vector)\n",
    "    relative_distance_local = np.dot(relative_distance, refernce_unit_vector)\n",
    "\n",
    "    print(f'relative dist: {relative_distance_local}')\n",
    "    print(f'relative vel: {relative_velocity_local}')\n",
    "    if relative_velocity_local < 0 and relative_distance_local/abs(relative_velocity_local) < 2: \n",
    "        print(\"collisionnnnnn\")\n",
    "    time.sleep(0.1)\n"
   ]
  },
  {
   "cell_type": "code",
   "execution_count": 1,
   "metadata": {},
   "outputs": [
    {
     "name": "stdout",
     "output_type": "stream",
     "text": [
      "Waiting for the ego vehicle...\n",
      "Ego vehicle found\n",
      "relative dist: 96.99994162198955\n",
      "relative vel: 0.0\n",
      "ego_speed : 0.0   -   sec_speed : 0.0\n",
      "relative dist: 37.00028220248458\n",
      "relative vel: -0.00338967704008609\n",
      "ego_speed : 0.0010606575907655448   -   sec_speed : 0.4886139854778558\n",
      "relative dist: 36.83580549637185\n",
      "relative vel: -1.678612119663922\n",
      "ego_speed : 1.6754458024110959   -   sec_speed : 0.06515715441696669\n",
      "relative dist: 35.59916394107522\n",
      "relative vel: -3.0162994123397175\n",
      "ego_speed : 3.0130639079344044   -   sec_speed : 0.00841752223326734\n",
      "relative dist: 33.85556010781212\n",
      "relative vel: -3.925182395225081\n",
      "ego_speed : 3.9218461513749543   -   sec_speed : 0.0034181841446223765\n",
      "relative dist: 31.194899605485926\n",
      "relative vel: -4.90957911746179\n",
      "ego_speed : 4.906193256409555   -   sec_speed : 0.003396051168559107\n",
      "relative dist: 28.548404849401084\n",
      "relative vel: -5.650561504043829\n",
      "ego_speed : 5.6471567364022555   -   sec_speed : 0.0034092949412932927\n",
      "relative dist: 24.908532448073363\n",
      "relative vel: -6.454680519098492\n",
      "ego_speed : 6.451269150248796   -   sec_speed : 0.003414924563464026\n",
      "relative dist: 20.812004434389735\n",
      "relative vel: -7.1756657012969685\n",
      "ego_speed : 7.1722531321201455   -   sec_speed : 0.003416060347323062\n",
      "relative dist: 16.305949238612627\n",
      "relative vel: -7.822421621465118\n",
      "ego_speed : 7.819005489756689   -   sec_speed : 0.0034193818611306533\n",
      "collisionnnnnn\n",
      "relative dist: 12.575654347797139\n",
      "relative vel: -3.972086821342659\n",
      "ego_speed : 3.9687408688478985   -   sec_speed : 0.003411580900027944\n",
      "relative dist: 11.590210753074746\n",
      "relative vel: -0.0005438817522774034\n",
      "ego_speed : 0.002876538156621154   -   sec_speed : 0.0034204395485935516\n",
      "relative dist: 11.585741629492698\n",
      "relative vel: -0.0034014431361899674\n",
      "ego_speed : 0.0   -   sec_speed : 0.0034022265714435396\n",
      "relative dist: 11.584421741767784\n",
      "relative vel: -0.003396293474072382\n",
      "ego_speed : 0.0   -   sec_speed : 0.003397045176117685\n",
      "relative dist: 11.5824037641623\n",
      "relative vel: -0.0034184279156327375\n",
      "ego_speed : 0.0   -   sec_speed : 0.003419327568032119\n",
      "relative dist: 11.580088239073483\n",
      "relative vel: -0.0034050861862676253\n",
      "ego_speed : 0.0   -   sec_speed : 0.0034058848047220113\n",
      "relative dist: 11.57807789005406\n",
      "relative vel: -0.003419420616278855\n",
      "ego_speed : 0.0   -   sec_speed : 0.0034203106675256413\n",
      "relative dist: 11.576109502046583\n",
      "relative vel: -0.0031575457542726004\n",
      "ego_speed : 0.0   -   sec_speed : 0.0031582904731277547\n",
      "relative dist: 11.574091525087354\n",
      "relative vel: -0.0034176086579811014\n",
      "ego_speed : 0.0   -   sec_speed : 0.003418480164756423\n",
      "relative dist: 11.573107331432336\n",
      "relative vel: -0.0034051293469275325\n",
      "ego_speed : 0.0   -   sec_speed : 0.0034059106235548027\n",
      "relative dist: 11.571436491517815\n",
      "relative vel: -0.0034150001912753667\n",
      "ego_speed : 0.0   -   sec_speed : 0.0034158492641037067\n",
      "relative dist: 11.569429956116211\n",
      "relative vel: -0.003419272069878935\n",
      "ego_speed : 0.0   -   sec_speed : 0.0034201315399285045\n",
      "relative dist: 11.567453940675042\n",
      "relative vel: -0.0034082428123792296\n",
      "ego_speed : 0.0   -   sec_speed : 0.003409033537690001\n",
      "relative dist: 11.565443591259621\n",
      "relative vel: -0.0034195926976349376\n",
      "ego_speed : 0.0   -   sec_speed : 0.0034204481161649977\n",
      "relative dist: 11.563776565270981\n",
      "relative vel: -0.00341899741575447\n",
      "ego_speed : 0.0   -   sec_speed : 0.003419838864685535\n",
      "relative dist: 11.562784743154586\n",
      "relative vel: -0.0034190823445601547\n",
      "ego_speed : 0.0   -   sec_speed : 0.003419930602092862\n",
      "relative dist: 11.56077820773842\n",
      "relative vel: -0.0034178040690080345\n",
      "ego_speed : 0.0   -   sec_speed : 0.0034186281909558\n",
      "relative dist: 11.558798378187879\n",
      "relative vel: -0.0034165017409763434\n",
      "ego_speed : 0.0   -   sec_speed : 0.003417327770463197\n",
      "relative dist: 11.55679184277171\n",
      "relative vel: -0.003418999432040561\n",
      "ego_speed : 0.0   -   sec_speed : 0.0034198248090412356\n",
      "relative dist: 11.554815827675455\n",
      "relative vel: -0.003410918525262169\n",
      "ego_speed : 0.0   -   sec_speed : 0.003411697359862186\n",
      "relative dist: 11.55280929269987\n",
      "relative vel: -0.0034196637928307545\n",
      "ego_speed : 0.0   -   sec_speed : 0.003420484268963025\n",
      "relative dist: 11.55083709120698\n",
      "relative vel: -0.0034015433029789995\n",
      "ego_speed : 0.0   -   sec_speed : 0.0034022423007250137\n",
      "relative dist: 11.548819113014169\n",
      "relative vel: -0.0034191142169484622\n",
      "ego_speed : 0.0   -   sec_speed : 0.003419928039714655\n",
      "relative dist: 11.546812577686053\n",
      "relative vel: -0.0034178611081728907\n",
      "ego_speed : 0.0   -   sec_speed : 0.003418650861167349\n",
      "relative dist: 11.544836562854389\n",
      "relative vel: -0.0034165449548139216\n",
      "ego_speed : 0.0   -   sec_speed : 0.0034173359623860373\n",
      "relative dist: 11.54252485148578\n",
      "relative vel: -0.003396369523915061\n",
      "ego_speed : 0.0   -   sec_speed : 0.003397022500149497\n",
      "relative dist: 11.54149869594561\n",
      "relative vel: -0.0034193522284933124\n",
      "ego_speed : 0.0   -   sec_speed : 0.003420142084758811\n",
      "relative dist: 11.5401711793333\n",
      "relative vel: -0.0034195739279102213\n",
      "ego_speed : 0.0   -   sec_speed : 0.003420361960752633\n",
      "relative dist: 11.53850033855991\n",
      "relative vel: -0.0034183142988355314\n",
      "ego_speed : 0.0   -   sec_speed : 0.003419084817548354\n",
      "relative dist: 11.53652432357377\n",
      "relative vel: -0.0034150616599783142\n",
      "ego_speed : 0.0   -   sec_speed : 0.003415823456273825\n",
      "relative dist: 11.534517788341205\n",
      "relative vel: -0.00341937665390329\n",
      "ego_speed : 0.0   -   sec_speed : 0.003420147579780143\n",
      "relative dist: 11.532541772900148\n",
      "relative vel: -0.0034083432373687448\n",
      "ego_speed : 0.0   -   sec_speed : 0.0034090477689277076\n"
     ]
    },
    {
     "ename": "KeyboardInterrupt",
     "evalue": "",
     "output_type": "error",
     "traceback": [
      "\u001b[0;31m---------------------------------------------------------------------------\u001b[0m",
      "\u001b[0;31mKeyboardInterrupt\u001b[0m                         Traceback (most recent call last)",
      "\u001b[0;32m<ipython-input-1-eda58a97ecf7>\u001b[0m in \u001b[0;36m<module>\u001b[0;34m\u001b[0m\n\u001b[1;32m     79\u001b[0m         \u001b[0mego_vehicle\u001b[0m\u001b[0;34m.\u001b[0m\u001b[0mapply_control\u001b[0m\u001b[0;34m(\u001b[0m\u001b[0mego_vehicle_control\u001b[0m\u001b[0;34m)\u001b[0m\u001b[0;34m\u001b[0m\u001b[0;34m\u001b[0m\u001b[0m\n\u001b[1;32m     80\u001b[0m         \u001b[0mprint\u001b[0m\u001b[0;34m(\u001b[0m\u001b[0;34m\"collisionnnnnn\"\u001b[0m\u001b[0;34m)\u001b[0m\u001b[0;34m\u001b[0m\u001b[0;34m\u001b[0m\u001b[0m\n\u001b[0;32m---> 81\u001b[0;31m     \u001b[0mtime\u001b[0m\u001b[0;34m.\u001b[0m\u001b[0msleep\u001b[0m\u001b[0;34m(\u001b[0m\u001b[0;36m0.2\u001b[0m\u001b[0;34m)\u001b[0m\u001b[0;34m\u001b[0m\u001b[0;34m\u001b[0m\u001b[0m\n\u001b[0m",
      "\u001b[0;31mKeyboardInterrupt\u001b[0m: "
     ]
    }
   ],
   "source": [
    "import carla\n",
    "import random\n",
    "import time\n",
    "import numpy as np\n",
    "\n",
    "client = carla.Client('localhost', 2000)\n",
    "client.set_timeout(2.0)\n",
    "world = client.get_world()\n",
    "\n",
    "# Create a synchronous mode context\n",
    "settings = world.get_settings()\n",
    "settings.synchronous_mode = True\n",
    "settings.fixed_delta_seconds = 0.1  # Simulation step size in seconds\n",
    "world.apply_settings(settings)\n",
    "\n",
    "ego_vehicle = None\n",
    "while ego_vehicle is None:\n",
    "    print(\"Waiting for the ego vehicle...\")\n",
    "    time.sleep(1)\n",
    "    possible_vehicles = world.get_actors().filter('vehicle.*')\n",
    "    for vehicle in possible_vehicles:\n",
    "        if vehicle.attributes['role_name'] == 'hero':\n",
    "            print(\"Ego vehicle found\")\n",
    "            ego_vehicle = vehicle\n",
    "            break\n",
    "\n",
    "vehicles = []\n",
    "for i in range(1):\n",
    "    bp = random.choice(world.get_blueprint_library().filter('vehicle.audi.a2'))\n",
    "    transform = random.choice(world.get_map().get_spawn_points())\n",
    "    transform.location.x = -60\n",
    "    transform.location.y = 25.5\n",
    "    transform.rotation.roll = 0\n",
    "    transform.rotation.pitch = 0\n",
    "    transform.rotation.yaw = 0\n",
    "    tmp_vehicle = world.try_spawn_actor(bp, transform)\n",
    "    if tmp_vehicle != None:\n",
    "        tmp_vehicle.set_autopilot(False)\n",
    "        vehicles.append(tmp_vehicle)\n",
    "\n",
    "second_vehicle = tmp_vehicle\n",
    "\n",
    "second_vehicle_control = second_vehicle.get_control()\n",
    "second_vehicle_control.throttle = 0.4\n",
    "second_vehicle.apply_control(second_vehicle_control)\n",
    "\n",
    "ego_vehicle_control = ego_vehicle.get_control()\n",
    "ego_vehicle_control.throttle = 0.4\n",
    "ego_vehicle.apply_control(ego_vehicle_control)\n",
    "\n",
    "while True:\n",
    "    ego_velocity = ego_vehicle.get_velocity()\n",
    "    ego_velocity_vector = np.array([ego_velocity.x, ego_velocity.y, ego_velocity.z])\n",
    "    ego_speed = np.linalg.norm(ego_velocity_vector)\n",
    "    second_velocity = second_vehicle.get_velocity()\n",
    "    second_velocity_vector = np.array([second_velocity.x, second_velocity.y, second_velocity.z])\n",
    "    second_speed = np.linalg.norm(second_velocity_vector)\n",
    "    relative_velocity = second_velocity_vector - ego_velocity_vector\n",
    "\n",
    "    ego_transform = ego_vehicle.get_transform()\n",
    "    ego_location = np.array([ego_transform.location.x, ego_transform.location.y, ego_transform.location.z])\n",
    "    second_transform = second_vehicle.get_transform()\n",
    "    second_location = np.array([second_transform.location.x, second_transform.location.y, second_transform.location.z])\n",
    "    relative_distance = second_location - ego_location\n",
    "\n",
    "    refernce_unit_vector = np.array([ego_transform.get_forward_vector().x, ego_transform.get_forward_vector().y,\n",
    "                                        ego_transform.get_forward_vector().z])\n",
    "\n",
    "    relative_velocity_local = np.dot(relative_velocity, refernce_unit_vector)\n",
    "    relative_distance_local = np.dot(relative_distance, refernce_unit_vector)\n",
    "\n",
    "    print(f'relative dist: {relative_distance_local}')\n",
    "    print(f'relative vel: {relative_velocity_local}')\n",
    "    print(f'ego_speed : {ego_speed}   -   sec_speed : {second_speed}')\n",
    "    if relative_velocity_local < 0 and (relative_distance_local-3)/abs(relative_velocity_local) < 2:\n",
    "        ego_vehicle_control.throttle = 0.0\n",
    "        ego_vehicle_control.brake = 1.0\n",
    "        ego_vehicle.apply_control(ego_vehicle_control)\n",
    "        print(\"collisionnnnnn\")\n",
    "    time.sleep(0.2)"
   ]
  },
  {
   "cell_type": "code",
   "execution_count": 6,
   "metadata": {},
   "outputs": [
    {
     "name": "stdout",
     "output_type": "stream",
     "text": [
      "[ActorBlueprint(id=vehicle.audi.a2,tags=[a2, audi, vehicle]), ActorBlueprint(id=vehicle.citroen.c3,tags=[c3, citroen, vehicle]), ActorBlueprint(id=vehicle.chevrolet.impala,tags=[impala, chevrolet, vehicle]), ActorBlueprint(id=vehicle.dodge.charger_police_2020,tags=[charger_police_2020, dodge, vehicle]), ActorBlueprint(id=vehicle.micro.microlino,tags=[microlino, micro, vehicle]), ActorBlueprint(id=vehicle.dodge.charger_police,tags=[charger_police, dodge, vehicle]), ActorBlueprint(id=vehicle.audi.tt,tags=[tt, audi, vehicle]), ActorBlueprint(id=vehicle.jeep.wrangler_rubicon,tags=[wrangler_rubicon, jeep, vehicle]), ActorBlueprint(id=vehicle.mercedes.coupe,tags=[coupe, mercedes, vehicle]), ActorBlueprint(id=vehicle.mercedes.coupe_2020,tags=[coupe_2020, mercedes, vehicle]), ActorBlueprint(id=vehicle.harley-davidson.low_rider,tags=[low_rider, harley-davidson, vehicle]), ActorBlueprint(id=vehicle.dodge.charger_2020,tags=[charger_2020, dodge, vehicle]), ActorBlueprint(id=vehicle.ford.ambulance,tags=[ambulance, ford, vehicle]), ActorBlueprint(id=vehicle.lincoln.mkz_2020,tags=[mkz_2020, lincoln, vehicle]), ActorBlueprint(id=vehicle.mini.cooper_s_2021,tags=[mini, cooper_s_2021, vehicle]), ActorBlueprint(id=vehicle.toyota.prius,tags=[prius, toyota, vehicle]), ActorBlueprint(id=vehicle.ford.crown,tags=[crown, ford, vehicle]), ActorBlueprint(id=vehicle.carlamotors.carlacola,tags=[carlacola, carlamotors, vehicle]), ActorBlueprint(id=vehicle.vespa.zx125,tags=[zx125, vespa, vehicle]), ActorBlueprint(id=vehicle.nissan.patrol_2021,tags=[nissan, patrol_2021, vehicle]), ActorBlueprint(id=vehicle.mercedes.sprinter,tags=[sprinter, mercedes, vehicle]), ActorBlueprint(id=vehicle.audi.etron,tags=[etron, audi, vehicle]), ActorBlueprint(id=vehicle.seat.leon,tags=[leon, seat, vehicle]), ActorBlueprint(id=vehicle.volkswagen.t2_2021,tags=[t2_2021, volkswagen, vehicle]), ActorBlueprint(id=vehicle.tesla.cybertruck,tags=[cybertruck, tesla, vehicle]), ActorBlueprint(id=vehicle.lincoln.mkz_2017,tags=[mkz_2017, lincoln, vehicle]), ActorBlueprint(id=vehicle.ford.mustang,tags=[mustang, ford, vehicle]), ActorBlueprint(id=vehicle.carlamotors.firetruck,tags=[carlamotors, firetruck, vehicle]), ActorBlueprint(id=vehicle.volkswagen.t2,tags=[volkswagen, t2, vehicle]), ActorBlueprint(id=vehicle.mitsubishi.fusorosa,tags=[fusorosa, mitsubishi, vehicle]), ActorBlueprint(id=vehicle.tesla.model3,tags=[tesla, model3, vehicle]), ActorBlueprint(id=vehicle.diamondback.century,tags=[century, diamondback, vehicle]), ActorBlueprint(id=vehicle.gazelle.omafiets,tags=[omafiets, gazelle, vehicle]), ActorBlueprint(id=vehicle.bmw.grandtourer,tags=[grandtourer, bmw, vehicle]), ActorBlueprint(id=vehicle.bh.crossbike,tags=[crossbike, bh, vehicle]), ActorBlueprint(id=vehicle.kawasaki.ninja,tags=[ninja, kawasaki, vehicle]), ActorBlueprint(id=vehicle.nissan.patrol,tags=[patrol, nissan, vehicle]), ActorBlueprint(id=vehicle.nissan.micra,tags=[micra, nissan, vehicle]), ActorBlueprint(id=vehicle.mini.cooper_s,tags=[cooper_s, mini, vehicle]), ActorBlueprint(id=vehicle.yamaha.yzf,tags=[yzf, yamaha, vehicle])]\n"
     ]
    },
    {
     "ename": "",
     "evalue": "",
     "output_type": "error",
     "traceback": [
      "\u001b[1;31mThe Kernel crashed while executing code in the the current cell or a previous cell. Please review the code in the cell(s) to identify a possible cause of the failure. Click <a href='https://aka.ms/vscodeJupyterKernelCrash'>here</a> for more info. View Jupyter <a href='command:jupyter.viewOutput'>log</a> for further details."
     ]
    }
   ],
   "source": [
    "print(x)"
   ]
  },
  {
   "cell_type": "code",
   "execution_count": null,
   "metadata": {},
   "outputs": [],
   "source": []
  },
  {
   "cell_type": "code",
   "execution_count": null,
   "metadata": {},
   "outputs": [],
   "source": []
  },
  {
   "cell_type": "code",
   "execution_count": null,
   "metadata": {},
   "outputs": [],
   "source": []
  },
  {
   "cell_type": "code",
   "execution_count": null,
   "metadata": {},
   "outputs": [],
   "source": [
    "while True:\n",
    "    ego_velocity = ego_vehicle.get_velocity()\n",
    "    ego_velocity_vector = np.array([ego_velocity.x, ego_velocity.y, ego_velocity.z])\n",
    "    second_velocity = second_vehicle.get_velocity()\n",
    "    second_velocity_vector = np.array([second_velocity.x, second_velocity.y, second_velocity.z])\n",
    "    relative_velocity = second_velocity_vector - ego_velocity_vector\n",
    "\n",
    "    ego_transform = ego_vehicle.get_transform()\n",
    "    ego_location = np.array([ego_transform.location.x, ego_transform.location.y, ego_transform.location.z])\n",
    "    second_transform = second_vehicle.get_transform()\n",
    "    second_location = np.array([second_transform.location.x, second_transform.location.y, second_transform.location.z])\n",
    "    relative_distance = -(second_location - ego_location)\n",
    "\n",
    "    refernce_unit_vector = np.array([ego_transform.get_forward_vector().x, ego_transform.get_forward_vector().y,\n",
    "                                        ego_transform.get_forward_vector().z])\n",
    "\n",
    "    relative_velocity_local = np.dot(second_velocity_vector, refernce_unit_vector) - np.dot(ego_velocity_vector, refernce_unit_vector)\n",
    "    relative_distance_local = np.dot(relative_distance, refernce_unit_vector)\n",
    "\n",
    "    if relative_distance_local > 0 and relative_distance_local < 70:\n",
    "        # print(f'{second_vehicle.type_id}')\n",
    "        print(f'relative dist: {relative_distance_local}')\n",
    "        # print(f'actual dist: {ego_transform.location.distance(second_transform.location)}')\n",
    "        if relative_velocity_local > 0.5 or relative_velocity_local < -0.5:\n",
    "            print(f'relative vel: {relative_velocity_local}')\n",
    "            t = relative_distance_local/relative_velocity_local\n",
    "            print(f'time to collision: {t}')\n",
    "        print('')\n",
    "        time.sleep(1)\n",
    "        "
   ]
  },
  {
   "cell_type": "code",
   "execution_count": null,
   "metadata": {},
   "outputs": [],
   "source": [
    "while True:\n",
    "    ego_velocity = ego_vehicle.get_velocity()\n",
    "    ego_velocity_vector = np.array([ego_velocity.x, ego_velocity.y, ego_velocity.z])\n",
    "    second_velocity = second_vehicle.get_velocity()\n",
    "    second_velocity_vector = np.array([second_velocity.x, second_velocity.y, second_velocity.z])\n",
    "    relative_velocity = second_velocity_vector - ego_velocity_vector\n",
    "\n",
    "    ego_transform = ego_vehicle.get_transform()\n",
    "    refernce_unit_vector = np.array([ego_transform.get_forward_vector().x, ego_transform.get_forward_vector().y, ego_transform.get_forward_vector().z])\n",
    "\n",
    "    relative_velocity_local = np.dot(relative_velocity, refernce_unit_vector)\n",
    "\n",
    "    print(f'relative vel : {relative_velocity_local}')\n",
    "\n",
    "        "
   ]
  },
  {
   "cell_type": "code",
   "execution_count": null,
   "metadata": {},
   "outputs": [],
   "source": []
  },
  {
   "cell_type": "code",
   "execution_count": null,
   "metadata": {},
   "outputs": [],
   "source": []
  },
  {
   "cell_type": "code",
   "execution_count": null,
   "metadata": {},
   "outputs": [],
   "source": [
    "\n",
    "while True:\n",
    "    for vehicle in vehicles:\n",
    "        t = colision_detector(ego_vehicle, vehicle)\n",
    "        if (t<2):\n",
    "            print(f\"-------- Collision with {vehicle.type_id}--------\")"
   ]
  },
  {
   "cell_type": "code",
   "execution_count": null,
   "metadata": {},
   "outputs": [],
   "source": []
  },
  {
   "cell_type": "code",
   "execution_count": null,
   "metadata": {},
   "outputs": [],
   "source": [
    "import carla\n",
    "import numpy as np\n",
    "import random\n",
    "\n",
    "def global_to_local_velocity(vehicle):\n",
    "\n",
    "    global_velocity = vehicle.get_velocity()\n",
    "    velocity = np.array([global_velocity.x,\n",
    "                    global_velocity.y,\n",
    "                    global_velocity.z])\n",
    "    \n",
    "    # Get the vehicle's transform (position and rotation)\n",
    "    rotation_matrix = np.array(vehicle.get_transform().get_matrix())\n",
    "    rotation_matrix.reshape(4, 4)\n",
    "    rotation_matrix[0:3, 3] = 0.0\n",
    "\n",
    "    # Calculate the inverse rotation matrix\n",
    "    inv_rotation_matrix = np.linalg.inv(rotation_matrix)\n",
    "\n",
    "    # Convert global velocity to local velocity\n",
    "    local_velocity = np.dot(inv_rotation_matrix, global_velocity)\n",
    "\n",
    "    return local_velocity\n",
    "\n",
    "# Connect to the CARLA server\n",
    "client = carla.Client('localhost', 2000)\n",
    "client.set_timeout(10.0)\n",
    "\n",
    "# Load a map in CARLA\n",
    "world = client.get_world()\n",
    "\n",
    "i=0\n",
    "\n",
    "try:\n",
    "\n",
    "    # Spawn a vehicle\n",
    "    vehicle_bp = world.get_blueprint_library().find('vehicle.tesla.model3')\n",
    "    spawn_point = random.choice(world.get_map().get_spawn_points())\n",
    "    vehicle = world.spawn_actor(vehicle_bp, spawn_point)\n",
    "    vehicle.set_autopilot(True)\n",
    "\n",
    "    while True:\n",
    "        world.tick()\n",
    "\n",
    "        \n",
    "\n",
    "        if i == 100:\n",
    "            # Convert global velocity to local velocity\n",
    "            local_velocity = global_to_local_velocity(vehicle, np.array([global_velocity.x, global_velocity.y, global_velocity.z, 1]))\n",
    "\n",
    "            print(\"Global Velocity:\", [global_velocity.x, global_velocity.y, global_velocity.z])\n",
    "            print(\"Local Velocity:\", local_velocity)\n",
    "\n",
    "            # Destroy the vehicle\n",
    "            vehicle.destroy()\n",
    "\n",
    "        i += 1\n",
    "\n",
    "except Exception as e:\n",
    "    print(\"An error occurred:\", e)\n"
   ]
  }
 ],
 "metadata": {
  "kernelspec": {
   "display_name": "carla",
   "language": "python",
   "name": "python3"
  },
  "language_info": {
   "codemirror_mode": {
    "name": "ipython",
    "version": 3
   },
   "file_extension": ".py",
   "mimetype": "text/x-python",
   "name": "python",
   "nbconvert_exporter": "python",
   "pygments_lexer": "ipython3",
   "version": "3.7.16"
  },
  "orig_nbformat": 4
 },
 "nbformat": 4,
 "nbformat_minor": 2
}
