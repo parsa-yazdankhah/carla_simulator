{
 "cells": [
  {
   "cell_type": "code",
   "execution_count": 1,
   "metadata": {},
   "outputs": [],
   "source": [
    "import glob \n",
    "import os\n",
    "import sys\n",
    "\n",
    "try:\n",
    "    sys.path.append(glob.glob('../carla/dist/carla-*%d.%d-%s.egg' % (\n",
    "        sys.version_info.major,\n",
    "        sys.version_info.minor,\n",
    "        'win-amd64' if os.name == 'nt' else 'linux-x86_64'))[0])\n",
    "except IndexError:\n",
    "    pass\n",
    "\n",
    "import carla\n",
    "import random\n",
    "import time\n",
    "import threading\n",
    "import queue\n",
    "import numpy as np"
   ]
  },
  {
   "cell_type": "code",
   "execution_count": null,
   "metadata": {},
   "outputs": [],
   "source": [
    "def process_data(queue_data, output_folder):\n",
    "    while True:\n",
    "        try:\n",
    "            # Wait for 1 second for data to be available in the queue\n",
    "            data = queue_data.get(timeout=1.0)  \n",
    "\n",
    "            # Create a filename using the timestamp of the data\n",
    "            timestamp = str(int(time.time() * 1000))  # Milliseconds since epoch\n",
    "            filename = os.path.join(output_folder, f'data_{timestamp}.txt')\n",
    "\n",
    "            # Write the data to the file\n",
    "            with open(filename, 'w') as f:\n",
    "                f.write(str(data))\n",
    "\n",
    "        except queue.Empty:\n",
    "            continue"
   ]
  },
  {
   "cell_type": "code",
   "execution_count": 2,
   "metadata": {},
   "outputs": [],
   "source": [
    "output_folder = '/home/parsa/Cheetah/carla_simulator/out'\n",
    "if not os.path.exists(output_folder):\n",
    "    os.makedirs(output_folder)"
   ]
  },
  {
   "cell_type": "code",
   "execution_count": 3,
   "metadata": {},
   "outputs": [],
   "source": [
    "client = carla.Client('localhost', 2000)\n",
    "client.set_timeout(2.0)\n",
    "\n",
    "world = client.get_world()\n",
    "blueprint_library = world.get_blueprint_library()"
   ]
  },
  {
   "cell_type": "code",
   "execution_count": 4,
   "metadata": {},
   "outputs": [
    {
     "data": {
      "text/plain": [
       "2556"
      ]
     },
     "execution_count": 4,
     "metadata": {},
     "output_type": "execute_result"
    }
   ],
   "source": [
    "# Create a synchronous mode context\n",
    "settings = world.get_settings()\n",
    "settings.synchronous_mode = True\n",
    "settings.fixed_delta_seconds = 0.1  # Simulation step size in seconds\n",
    "world.apply_settings(settings)"
   ]
  },
  {
   "cell_type": "code",
   "execution_count": 5,
   "metadata": {},
   "outputs": [
    {
     "name": "stdout",
     "output_type": "stream",
     "text": [
      "created vehicle.volkswagen.t2\n"
     ]
    }
   ],
   "source": [
    "actor_list = []\n",
    "# Spawn a vehicle of random choice into world\n",
    "bp = random.choice(blueprint_library.filter('vehicle'))\n",
    "if bp.has_attribute('color'):\n",
    "    color = random.choice(bp.get_attribute('color').recommended_values)\n",
    "    bp.set_attribute('color', color)\n",
    "transform = random.choice(world.get_map().get_spawn_points())\n",
    "vehicle = world.spawn_actor(bp, transform)\n",
    "actor_list.append(vehicle)\n",
    "vehicle.set_autopilot(True)\n",
    "print(f'created {vehicle.type_id}')"
   ]
  },
  {
   "cell_type": "code",
   "execution_count": 6,
   "metadata": {},
   "outputs": [
    {
     "name": "stdout",
     "output_type": "stream",
     "text": [
      "created sensor.camera.rgb\n"
     ]
    }
   ],
   "source": [
    "# Spawn a camera attached to the vehicle\n",
    "camera_rgb = world.spawn_actor(\n",
    "    blueprint_library.find('sensor.camera.rgb'),\n",
    "    carla.Transform(carla.Location(x=1.5, z=2.4)),\n",
    "    attach_to=vehicle)\n",
    "actor_list.append(camera_rgb)\n",
    "print(f'created {camera_rgb.type_id}')"
   ]
  },
  {
   "cell_type": "code",
   "execution_count": null,
   "metadata": {},
   "outputs": [],
   "source": [
    "# Set up the data processing thread\n",
    "data_queue = queue.Queue()\n",
    "data_thread = threading.Thread(target=process_data, args=(data_queue, output_folder))\n",
    "data_thread.start()"
   ]
  },
  {
   "cell_type": "code",
   "execution_count": 8,
   "metadata": {},
   "outputs": [
    {
     "name": "stdout",
     "output_type": "stream",
     "text": [
      "created vehicle.micro.microlino\n"
     ]
    }
   ],
   "source": [
    "# Spawn a vehicle of random choice into world\n",
    "bp = random.choice(blueprint_library.filter('vehicle'))\n",
    "vehicle2 = world.spawn_actor(bp, random.choice(world.get_map().get_spawn_points()))\n",
    "actor_list.append(vehicle2)\n",
    "vehicle2.set_autopilot(True)\n",
    "print(f'created {vehicle2.type_id}')"
   ]
  },
  {
   "cell_type": "code",
   "execution_count": null,
   "metadata": {},
   "outputs": [],
   "source": [
    "record_time = 60 # Seconds\n",
    "time0 = time.time()\n",
    "info = []\n",
    "info2 = []\n",
    "while True:\n",
    "    # Synchronize the simulation\n",
    "    world.tick()\n",
    "\n",
    "    # Get data from the sensors\n",
    "    info.append(vehicle.get_location())\n",
    "    info.append(vehicle.get_velocity())\n",
    "    info.append(vehicle.get_acceleration())\n",
    "\n",
    "    info2.append(vehicle2.get_location())\n",
    "    info2.append(vehicle2.get_velocity())\n",
    "    info2.append(vehicle2.get_acceleration())\n",
    "    \n",
    "    # # Put the data into the queue\n",
    "    # data = {\n",
    "    #     'vehicle_location': (vehicle_location.x,vehicle_location.y,vehicle_location.z),\n",
    "    #     'vehicle_velocity': (vehicle_velocity.x,vehicle_velocity.y,vehicle_velocity.z),\n",
    "    #     'vehicle_acceleration': (vehicle_acceleration.x,vehicle_acceleration.y,vehicle_acceleration.z),\n",
    "    # }\n",
    "    # data_queue.put(data)\n",
    "\n",
    "    time1 = time.time()\n",
    "    if (time1-time0) > record_time:\n",
    "        break\n",
    "    \n",
    "time.sleep(5)"
   ]
  },
  {
   "cell_type": "code",
   "execution_count": null,
   "metadata": {},
   "outputs": [],
   "source": [
    "print(\"Destroying Actors\")\n",
    "client.apply_batch([carla.command.DestroyActor(x) for x in actor_list])\n",
    "data_thread.join()\n",
    "print(\"Done.\")"
   ]
  },
  {
   "cell_type": "code",
   "execution_count": 22,
   "metadata": {},
   "outputs": [
    {
     "name": "stdout",
     "output_type": "stream",
     "text": [
      "Vector3D(x=-0.017404, y=0.013099, z=-0.000695)\n"
     ]
    }
   ],
   "source": [
    "print(info[3001])"
   ]
  },
  {
   "cell_type": "code",
   "execution_count": 32,
   "metadata": {},
   "outputs": [
    {
     "name": "stdout",
     "output_type": "stream",
     "text": [
      "Vector3D(x=-0.006050, y=-0.000545, z=0.004901)\n"
     ]
    }
   ],
   "source": [
    "print(info2[3001])"
   ]
  },
  {
   "cell_type": "code",
   "execution_count": 34,
   "metadata": {},
   "outputs": [],
   "source": [
    "x = info[0]\n",
    "x2 = info2[0]"
   ]
  },
  {
   "cell_type": "code",
   "execution_count": 39,
   "metadata": {},
   "outputs": [
    {
     "data": {
      "text/plain": [
       "135.0155487060547"
      ]
     },
     "execution_count": 39,
     "metadata": {},
     "output_type": "execute_result"
    },
    {
     "ename": "",
     "evalue": "",
     "output_type": "error",
     "traceback": [
      "\u001b[1;31mThe Kernel crashed while executing code in the the current cell or a previous cell. Please review the code in the cell(s) to identify a possible cause of the failure. Click <a href='https://aka.ms/vscodeJupyterKernelCrash'>here</a> for more info. View Jupyter <a href='command:jupyter.viewOutput'>log</a> for further details."
     ]
    }
   ],
   "source": [
    "x.distance(x2)"
   ]
  },
  {
   "cell_type": "code",
   "execution_count": 37,
   "metadata": {},
   "outputs": [
    {
     "data": {
      "text/plain": [
       "135.01555324632878"
      ]
     },
     "execution_count": 37,
     "metadata": {},
     "output_type": "execute_result"
    }
   ],
   "source": [
    "((x.x - x2.x)**2 + (x.y - x2.y)**2 + (x.z - x2.z)**2)**0.5"
   ]
  },
  {
   "cell_type": "code",
   "execution_count": null,
   "metadata": {},
   "outputs": [],
   "source": []
  },
  {
   "cell_type": "code",
   "execution_count": null,
   "metadata": {},
   "outputs": [],
   "source": []
  },
  {
   "cell_type": "code",
   "execution_count": null,
   "metadata": {},
   "outputs": [],
   "source": []
  },
  {
   "cell_type": "code",
   "execution_count": null,
   "metadata": {},
   "outputs": [],
   "source": []
  },
  {
   "cell_type": "code",
   "execution_count": null,
   "metadata": {},
   "outputs": [],
   "source": []
  },
  {
   "cell_type": "code",
   "execution_count": null,
   "metadata": {},
   "outputs": [],
   "source": []
  },
  {
   "cell_type": "code",
   "execution_count": null,
   "metadata": {},
   "outputs": [],
   "source": []
  },
  {
   "cell_type": "code",
   "execution_count": null,
   "metadata": {},
   "outputs": [],
   "source": []
  },
  {
   "cell_type": "code",
   "execution_count": null,
   "metadata": {},
   "outputs": [],
   "source": []
  },
  {
   "cell_type": "code",
   "execution_count": null,
   "metadata": {},
   "outputs": [],
   "source": []
  },
  {
   "cell_type": "code",
   "execution_count": null,
   "metadata": {},
   "outputs": [],
   "source": []
  },
  {
   "cell_type": "code",
   "execution_count": null,
   "metadata": {},
   "outputs": [],
   "source": []
  },
  {
   "cell_type": "code",
   "execution_count": null,
   "metadata": {},
   "outputs": [],
   "source": []
  },
  {
   "cell_type": "code",
   "execution_count": null,
   "metadata": {},
   "outputs": [],
   "source": []
  },
  {
   "cell_type": "code",
   "execution_count": null,
   "metadata": {},
   "outputs": [],
   "source": []
  },
  {
   "cell_type": "code",
   "execution_count": null,
   "metadata": {},
   "outputs": [],
   "source": []
  },
  {
   "cell_type": "code",
   "execution_count": null,
   "metadata": {},
   "outputs": [],
   "source": []
  },
  {
   "cell_type": "code",
   "execution_count": null,
   "metadata": {},
   "outputs": [],
   "source": []
  },
  {
   "cell_type": "code",
   "execution_count": null,
   "metadata": {},
   "outputs": [],
   "source": []
  },
  {
   "cell_type": "code",
   "execution_count": null,
   "metadata": {},
   "outputs": [],
   "source": []
  },
  {
   "cell_type": "code",
   "execution_count": null,
   "metadata": {},
   "outputs": [],
   "source": []
  },
  {
   "cell_type": "code",
   "execution_count": null,
   "metadata": {},
   "outputs": [],
   "source": []
  },
  {
   "cell_type": "code",
   "execution_count": null,
   "metadata": {},
   "outputs": [],
   "source": []
  }
 ],
 "metadata": {
  "kernelspec": {
   "display_name": "carla",
   "language": "python",
   "name": "python3"
  },
  "language_info": {
   "codemirror_mode": {
    "name": "ipython",
    "version": 3
   },
   "file_extension": ".py",
   "mimetype": "text/x-python",
   "name": "python",
   "nbconvert_exporter": "python",
   "pygments_lexer": "ipython3",
   "version": "3.7.16"
  },
  "orig_nbformat": 4
 },
 "nbformat": 4,
 "nbformat_minor": 2
}
