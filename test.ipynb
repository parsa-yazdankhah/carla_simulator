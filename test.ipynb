{
 "cells": [
  {
   "cell_type": "code",
   "execution_count": null,
   "metadata": {},
   "outputs": [],
   "source": [
    "import glob \n",
    "import os\n",
    "import sys\n",
    "\n",
    "try:\n",
    "    sys.path.append(glob.glob('../carla/dist/carla-*%d.%d-%s.egg' % (\n",
    "        sys.version_info.major,\n",
    "        sys.version_info.minor,\n",
    "        'win-amd64' if os.name == 'nt' else 'linux-x86_64'))[0])\n",
    "except IndexError:\n",
    "    pass\n",
    "\n",
    "import carla\n",
    "import random\n",
    "import time\n",
    "import threading\n",
    "import queue\n",
    "import numpy as np"
   ]
  },
  {
   "cell_type": "markdown",
   "metadata": {},
   "source": [
    "Connect to the server and initialize synchronous mode"
   ]
  },
  {
   "cell_type": "code",
   "execution_count": null,
   "metadata": {},
   "outputs": [],
   "source": [
    "client = carla.Client('localhost', 2000)\n",
    "client.set_timeout(2.0)\n",
    "\n",
    "world = client.get_world()"
   ]
  },
  {
   "cell_type": "code",
   "execution_count": null,
   "metadata": {},
   "outputs": [],
   "source": [
    "# Create a synchronous mode context\n",
    "settings = world.get_settings()\n",
    "settings.synchronous_mode = True\n",
    "settings.fixed_delta_seconds = 0.1  # Simulation step size in seconds\n",
    "world.apply_settings(settings)"
   ]
  },
  {
   "cell_type": "code",
   "execution_count": null,
   "metadata": {},
   "outputs": [],
   "source": [
    "for actor in world.get_actors():\n",
    "    if actor.type_id[:7] == \"vehicle\":\n",
    "        ego_vehicle = actor"
   ]
  },
  {
   "cell_type": "markdown",
   "metadata": {},
   "source": [
    "Spawn a Second vehicle and set it to autopilot mode"
   ]
  },
  {
   "cell_type": "code",
   "execution_count": null,
   "metadata": {},
   "outputs": [],
   "source": [
    "bp = random.choice(world.get_blueprint_library().filter('*vehicle*'))\n",
    "transform = random.choice(world.get_map().get_spawn_points())\n",
    "second_vehicle = world.try_spawn_actor(bp, transform)\n",
    "second_vehicle.set_autopilot(True)"
   ]
  },
  {
   "cell_type": "markdown",
   "metadata": {},
   "source": [
    "Does imitating second vehicle's behavior work? No"
   ]
  },
  {
   "cell_type": "code",
   "execution_count": null,
   "metadata": {},
   "outputs": [],
   "source": [
    "while True:\n",
    "    ego_vehicle.apply_control(second_vehicle.get_control())"
   ]
  },
  {
   "cell_type": "markdown",
   "metadata": {},
   "source": [
    "Does using `VehiclePIDController` class work? No\n",
    "\n",
    "Reference: agents/navigation/controller.py"
   ]
  },
  {
   "cell_type": "code",
   "execution_count": null,
   "metadata": {},
   "outputs": [],
   "source": [
    "from agents.navigation.controller import VehiclePIDController\n",
    "\n",
    "args = dict(K_P=1, K_I=0, K_D=0)\n",
    "controller = VehiclePIDController(ego_vehicle,args_lateral=args,args_longitudinal=args)\n",
    "map = world.get_map()"
   ]
  },
  {
   "cell_type": "code",
   "execution_count": null,
   "metadata": {},
   "outputs": [],
   "source": [
    "while True:\n",
    "    waypoint = map.get_waypoint(second_vehicle.get_location(),project_to_road=True)\n",
    "\n",
    "    speed = second_vehicle.get_velocity()\n",
    "    target_speed = (speed.x**2 + speed.y**2 + speed.z**2)**0.5\n",
    "\n",
    "    controller.run_step(waypoint=waypoint,target_speed=target_speed)"
   ]
  },
  {
   "cell_type": "markdown",
   "metadata": {},
   "source": [
    "Does using *agents* work? **Yes**\n",
    "\n",
    "Reference: https://carla.readthedocs.io/en/0.9.14/adv_agents/"
   ]
  },
  {
   "cell_type": "code",
   "execution_count": null,
   "metadata": {},
   "outputs": [],
   "source": [
    "from agents.navigation.behavior_agent import BehaviorAgent\n",
    "\n",
    "agent = BehaviorAgent(ego_vehicle, behavior='aggressive')"
   ]
  },
  {
   "cell_type": "code",
   "execution_count": null,
   "metadata": {},
   "outputs": [],
   "source": [
    "agent.ignore_traffic_lights(True)\n",
    "agent.set_destination(second_vehicle.get_location())\n",
    "# Follow second vehicle\n",
    "while True:\n",
    "    if agent.done():\n",
    "        agent.set_destination(second_vehicle.get_location())\n",
    "\n",
    "    ego_vehicle.apply_control(agent.run_step())"
   ]
  },
  {
   "cell_type": "markdown",
   "metadata": {},
   "source": [
    "To store desired data in seperate files in the *out* folder"
   ]
  },
  {
   "cell_type": "code",
   "execution_count": null,
   "metadata": {},
   "outputs": [],
   "source": [
    "def process_data(queue_data, output_folder):\n",
    "    while True:\n",
    "        try:\n",
    "            # Wait for 1 second for data to be available in the queue\n",
    "            data = queue_data.get(timeout=1.0)  \n",
    "\n",
    "            # Create a filename using the timestamp of the data\n",
    "            timestamp = str(int(time.time() * 1000))  # Milliseconds since epoch\n",
    "            filename = os.path.join(output_folder, f'data_{timestamp}.txt')\n",
    "\n",
    "            # Write the data to the file\n",
    "            with open(filename, 'w') as f:\n",
    "                f.write(str(data))\n",
    "\n",
    "        except queue.Empty:\n",
    "            continue"
   ]
  },
  {
   "cell_type": "code",
   "execution_count": null,
   "metadata": {},
   "outputs": [],
   "source": [
    "output_folder = '/home/parsa/Cheetah/carla_simulator/out'\n",
    "if not os.path.exists(output_folder):\n",
    "    os.makedirs(output_folder)"
   ]
  },
  {
   "cell_type": "code",
   "execution_count": null,
   "metadata": {},
   "outputs": [],
   "source": [
    "# Set up the data processing thread\n",
    "data_queue = queue.Queue()\n",
    "data_thread = threading.Thread(target=process_data, args=(data_queue, output_folder))\n",
    "data_thread.start()"
   ]
  },
  {
   "cell_type": "code",
   "execution_count": null,
   "metadata": {},
   "outputs": [],
   "source": [
    "record_time = 60 # Seconds\n",
    "time0 = time.time()\n",
    "while True:  \n",
    "    # Put the data into the queue\n",
    "    data = {\n",
    "        'vehicle_location': (ego_vehicle.get_location().x,ego_vehicle.get_location().y,ego_vehicle.get_location().z),\n",
    "    }\n",
    "    data_queue.put(data)\n",
    "\n",
    "    time1 = time.time()\n",
    "    if (time1-time0) > record_time:\n",
    "        break"
   ]
  },
  {
   "cell_type": "markdown",
   "metadata": {},
   "source": [
    "Attempt to draw boxes around vehicles\n",
    "\n",
    "https://github.com/carla-simulator/carla/issues/1212"
   ]
  },
  {
   "cell_type": "code",
   "execution_count": null,
   "metadata": {},
   "outputs": [],
   "source": [
    "crashed = False\n",
    "while not crashed:\n",
    "    world.wait_for_tick()\n",
    "    for vehicle in world.get_actors().filter(\"vehicle*\"):\n",
    "        transform = vehicle.get_transform()\n",
    "        bounding_box = vehicle.bounding_box\n",
    "        bounding_box.location += transform.location\n",
    "        world.debug.draw_box(bounding_box, transform.rotation)\n",
    "        if vehicle != ego_vehicle:\n",
    "            distance = ego_vehicle.get_location().distance(vehicle.get_location())\n",
    "            world.debug.draw_string(vehicle.get_location(), f'{distance:.1f} m')"
   ]
  },
  {
   "cell_type": "code",
   "execution_count": null,
   "metadata": {},
   "outputs": [],
   "source": [
    "crashed = False\n",
    "while not crashed:\n",
    "    for vehicle in world.get_actors().filter(\"vehicle*\"):\n",
    "        if vehicle != ego_vehicle:\n",
    "            distance = ego_vehicle.get_location().distance(vehicle.get_location())\n",
    "            if distance < 100:\n",
    "                loc = vehicle.get_location()\n",
    "                loc.z += 4\n",
    "                world.debug.draw_string(loc, f'{distance:.1f} m')"
   ]
  },
  {
   "cell_type": "code",
   "execution_count": null,
   "metadata": {},
   "outputs": [],
   "source": []
  },
  {
   "cell_type": "markdown",
   "metadata": {},
   "source": [
    "Reference: https://carla.readthedocs.io/en/latest/tuto_G_bounding_boxes/"
   ]
  },
  {
   "cell_type": "code",
   "execution_count": null,
   "metadata": {},
   "outputs": [],
   "source": [
    "import cv2\n",
    "\n",
    "for actor in world.get_actors():\n",
    "    if actor.type_id == \"sensor.camera.rgb\":\n",
    "        camera = actor\n",
    "\n",
    "# Create a queue to store and retrieve the sensor data\n",
    "image_queue = queue.Queue()\n",
    "camera.listen(image_queue.put)"
   ]
  },
  {
   "cell_type": "code",
   "execution_count": null,
   "metadata": {},
   "outputs": [],
   "source": [
    "def get_image_point(loc, K, w2c):\n",
    "        # Calculate 2D projection of 3D coordinate\n",
    "\n",
    "        # Format the input coordinate (loc is a carla.Position object)\n",
    "        point = np.array([loc.x, loc.y, loc.z, 1])\n",
    "        # transform to camera coordinates\n",
    "        point_camera = np.dot(w2c, point)\n",
    "\n",
    "        # New we must change from UE4's coordinate system to an \"standard\"\n",
    "        # (x, y ,z) -> (y, -z, x)\n",
    "        # and we remove the fourth componebonent also\n",
    "        point_camera = [point_camera[1], -point_camera[2], point_camera[0]]\n",
    "\n",
    "        # now project 3D->2D using the camera matrix\n",
    "        point_img = np.dot(K, point_camera)\n",
    "        # normalize\n",
    "        point_img[0] /= point_img[2]\n",
    "        point_img[1] /= point_img[2]\n",
    "\n",
    "        return point_img[0:2]"
   ]
  },
  {
   "cell_type": "code",
   "execution_count": null,
   "metadata": {},
   "outputs": [],
   "source": [
    "while True:\n",
    "\n",
    "    # Retrieve and reshape the image\n",
    "    image = image_queue.get()\n",
    "\n",
    "    img = np.reshape(np.copy(image.raw_data), (image.height, image.width, 4))\n",
    "\n",
    "    # Get the camera matrix \n",
    "    world_2_camera = np.array(camera.get_transform().get_inverse_matrix())\n",
    "\n",
    "    for npc in world.get_actors().filter('*vehicle*'):\n",
    "\n",
    "        # Filter out the ego vehicle\n",
    "        if npc.id != vehicle.id:\n",
    "\n",
    "            bb = npc.bounding_box\n",
    "            dist = npc.get_transform().location.distance(vehicle.get_transform().location)\n",
    "\n",
    "            # Filter for the vehicles within 50m\n",
    "            if dist < 50:\n",
    "\n",
    "            # Calculate the dot product between the forward vector\n",
    "            # of the vehicle and the vector between the vehicle\n",
    "            # and the other vehicle. We threshold this dot product\n",
    "            # to limit to drawing bounding boxes IN FRONT OF THE CAMERA\n",
    "                forward_vec = vehicle.get_transform().get_forward_vector()\n",
    "                ray = npc.get_transform().location - vehicle.get_transform().location\n",
    "\n",
    "                if forward_vec.dot(ray) > 1:\n",
    "                    p1 = get_image_point(bb.location, K, world_2_camera)\n",
    "                    verts = [v for v in bb.get_world_vertices(npc.get_transform())]\n",
    "                    x_max = -10000\n",
    "                    x_min = 10000\n",
    "                    y_max = -10000\n",
    "                    y_min = 10000\n",
    "\n",
    "                    for vert in verts:\n",
    "                        p = get_image_point(vert, K, world_2_camera)\n",
    "                        # Find the rightmost vertex\n",
    "                        if p[0] > x_max:\n",
    "                            x_max = p[0]\n",
    "                        # Find the leftmost vertex\n",
    "                        if p[0] < x_min:\n",
    "                            x_min = p[0]\n",
    "                        # Find the highest vertex\n",
    "                        if p[1] > y_max:\n",
    "                            y_max = p[1]\n",
    "                        # Find the lowest  vertex\n",
    "                        if p[1] < y_min:\n",
    "                            y_min = p[1]\n",
    "\n",
    "                    cv2.line(img, (int(x_min),int(y_min)), (int(x_max),int(y_min)), (0,0,255, 255), 1)\n",
    "                    cv2.line(img, (int(x_min),int(y_max)), (int(x_max),int(y_max)), (0,0,255, 255), 1)\n",
    "                    cv2.line(img, (int(x_min),int(y_min)), (int(x_min),int(y_max)), (0,0,255, 255), 1)\n",
    "                    cv2.line(img, (int(x_max),int(y_min)), (int(x_max),int(y_max)), (0,0,255, 255), 1)\n",
    "\n",
    "\n",
    "    cv2.imshow('ImageWindowName',img)\n",
    "    if cv2.waitKey(1) == ord('q'):\n",
    "        break"
   ]
  },
  {
   "cell_type": "code",
   "execution_count": null,
   "metadata": {},
   "outputs": [],
   "source": []
  }
 ],
 "metadata": {
  "kernelspec": {
   "display_name": "carla",
   "language": "python",
   "name": "python3"
  },
  "language_info": {
   "codemirror_mode": {
    "name": "ipython",
    "version": 3
   },
   "file_extension": ".py",
   "mimetype": "text/x-python",
   "name": "python",
   "nbconvert_exporter": "python",
   "pygments_lexer": "ipython3",
   "version": "3.7.16"
  },
  "orig_nbformat": 4
 },
 "nbformat": 4,
 "nbformat_minor": 2
}
