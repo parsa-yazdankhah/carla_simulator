{
 "cells": [
  {
   "cell_type": "code",
   "execution_count": null,
   "metadata": {},
   "outputs": [],
   "source": [
    "import glob \n",
    "import os\n",
    "import sys\n",
    "\n",
    "try:\n",
    "    sys.path.append(glob.glob('../carla/dist/carla-*%d.%d-%s.egg' % (\n",
    "        sys.version_info.major,\n",
    "        sys.version_info.minor,\n",
    "        'win-amd64' if os.name == 'nt' else 'linux-x86_64'))[0])\n",
    "except IndexError:\n",
    "    pass\n",
    "\n",
    "import carla\n",
    "import random\n",
    "import time\n",
    "import threading\n",
    "import queue\n",
    "import numpy as np"
   ]
  },
  {
   "cell_type": "markdown",
   "metadata": {},
   "source": [
    "Connect to the server and initialize synchronous mode"
   ]
  },
  {
   "cell_type": "code",
   "execution_count": null,
   "metadata": {},
   "outputs": [],
   "source": [
    "client = carla.Client('localhost', 2000)\n",
    "client.set_timeout(2.0)\n",
    "\n",
    "world = client.get_world()"
   ]
  },
  {
   "cell_type": "code",
   "execution_count": null,
   "metadata": {},
   "outputs": [],
   "source": [
    "# Create a synchronous mode context\n",
    "settings = world.get_settings()\n",
    "settings.synchronous_mode = True\n",
    "settings.fixed_delta_seconds = 0.1  # Simulation step size in seconds\n",
    "world.apply_settings(settings)"
   ]
  },
  {
   "cell_type": "code",
   "execution_count": null,
   "metadata": {},
   "outputs": [],
   "source": [
    "for actor in world.get_actors():\n",
    "    if actor.type_id[:7] == \"vehicle\":\n",
    "        ego_vehicle = actor"
   ]
  },
  {
   "cell_type": "markdown",
   "metadata": {},
   "source": [
    "Spawn a Second vehicle and set it to autopilot mode"
   ]
  },
  {
   "cell_type": "code",
   "execution_count": null,
   "metadata": {},
   "outputs": [],
   "source": [
    "bp = random.choice(world.get_blueprint_library().filter('*vehicle*'))\n",
    "transform = random.choice(world.get_map().get_spawn_points())\n",
    "second_vehicle = world.try_spawn_actor(bp, transform)\n",
    "second_vehicle.set_autopilot(True)"
   ]
  },
  {
   "cell_type": "markdown",
   "metadata": {},
   "source": [
    "Does imitating second vehicle's behavior work? No"
   ]
  },
  {
   "cell_type": "code",
   "execution_count": null,
   "metadata": {},
   "outputs": [],
   "source": [
    "while True:\n",
    "    ego_vehicle.apply_control(second_vehicle.get_control())"
   ]
  },
  {
   "cell_type": "markdown",
   "metadata": {},
   "source": [
    "Does using `VehiclePIDController` class work? No\n",
    "\n",
    "Reference: agents/navigation/controller.py"
   ]
  },
  {
   "cell_type": "code",
   "execution_count": null,
   "metadata": {},
   "outputs": [],
   "source": [
    "from agents.navigation.controller import VehiclePIDController\n",
    "\n",
    "args = dict(K_P=1, K_I=0, K_D=0)\n",
    "controller = VehiclePIDController(ego_vehicle,args_lateral=args,args_longitudinal=args)\n",
    "map = world.get_map()"
   ]
  },
  {
   "cell_type": "code",
   "execution_count": null,
   "metadata": {},
   "outputs": [],
   "source": [
    "while True:\n",
    "    waypoint = map.get_waypoint(second_vehicle.get_location(),project_to_road=True)\n",
    "\n",
    "    speed = second_vehicle.get_velocity()\n",
    "    target_speed = (speed.x**2 + speed.y**2 + speed.z**2)**0.5\n",
    "\n",
    "    controller.run_step(waypoint=waypoint,target_speed=target_speed)"
   ]
  },
  {
   "cell_type": "markdown",
   "metadata": {},
   "source": [
    "Does using *agents* work? **Yes**\n",
    "\n",
    "Reference: https://carla.readthedocs.io/en/0.9.14/adv_agents/"
   ]
  },
  {
   "cell_type": "code",
   "execution_count": null,
   "metadata": {},
   "outputs": [],
   "source": [
    "from agents.navigation.behavior_agent import BehaviorAgent\n",
    "\n",
    "agent = BehaviorAgent(ego_vehicle, behavior='aggressive')"
   ]
  },
  {
   "cell_type": "code",
   "execution_count": null,
   "metadata": {},
   "outputs": [],
   "source": [
    "agent.ignore_traffic_lights(True)\n",
    "agent.set_destination(second_vehicle.get_location())\n",
    "# Follow second vehicle\n",
    "while True:\n",
    "    if agent.done():\n",
    "        agent.set_destination(second_vehicle.get_location())\n",
    "\n",
    "    ego_vehicle.apply_control(agent.run_step())"
   ]
  },
  {
   "cell_type": "markdown",
   "metadata": {},
   "source": [
    "To store desired data in seperate files in the *out* folder"
   ]
  },
  {
   "cell_type": "code",
   "execution_count": null,
   "metadata": {},
   "outputs": [],
   "source": [
    "def process_data(queue_data, output_folder):\n",
    "    while True:\n",
    "        try:\n",
    "            # Wait for 1 second for data to be available in the queue\n",
    "            data = queue_data.get(timeout=1.0)  \n",
    "\n",
    "            # Create a filename using the timestamp of the data\n",
    "            timestamp = str(int(time.time() * 1000))  # Milliseconds since epoch\n",
    "            filename = os.path.join(output_folder, f'data_{timestamp}.txt')\n",
    "\n",
    "            # Write the data to the file\n",
    "            with open(filename, 'w') as f:\n",
    "                f.write(str(data))\n",
    "\n",
    "        except queue.Empty:\n",
    "            continue"
   ]
  },
  {
   "cell_type": "code",
   "execution_count": null,
   "metadata": {},
   "outputs": [],
   "source": [
    "output_folder = '/home/parsa/Cheetah/carla_simulator/out'\n",
    "if not os.path.exists(output_folder):\n",
    "    os.makedirs(output_folder)"
   ]
  },
  {
   "cell_type": "code",
   "execution_count": null,
   "metadata": {},
   "outputs": [],
   "source": [
    "# Set up the data processing thread\n",
    "data_queue = queue.Queue()\n",
    "data_thread = threading.Thread(target=process_data, args=(data_queue, output_folder))\n",
    "data_thread.start()"
   ]
  },
  {
   "cell_type": "code",
   "execution_count": null,
   "metadata": {},
   "outputs": [],
   "source": [
    "record_time = 60 # Seconds\n",
    "time0 = time.time()\n",
    "while True:  \n",
    "    # Put the data into the queue\n",
    "    data = {\n",
    "        'vehicle_location': (ego_vehicle.get_location().x,ego_vehicle.get_location().y,ego_vehicle.get_location().z),\n",
    "    }\n",
    "    data_queue.put(data)\n",
    "\n",
    "    time1 = time.time()\n",
    "    if (time1-time0) > record_time:\n",
    "        break"
   ]
  },
  {
   "cell_type": "markdown",
   "metadata": {},
   "source": [
    "Attempt to draw boxes around vehicles\n",
    "\n",
    "https://github.com/carla-simulator/carla/issues/1212    (didn't work - should be debugged)"
   ]
  },
  {
   "cell_type": "code",
   "execution_count": null,
   "metadata": {},
   "outputs": [],
   "source": [
    "crashed = False\n",
    "while not crashed:\n",
    "    world.wait_for_tick()\n",
    "    for vehicle in world.get_actors().filter(\"vehicle*\"):\n",
    "        transform = vehicle.get_transform()\n",
    "        bounding_box = vehicle.bounding_box\n",
    "        bounding_box.location += transform.location\n",
    "        world.debug.draw_box(bounding_box, transform.rotation)\n",
    "        if vehicle != ego_vehicle:\n",
    "            distance = ego_vehicle.get_location().distance(vehicle.get_location())\n",
    "            world.debug.draw_string(vehicle.get_location(), f'{distance:.1f} m')"
   ]
  },
  {
   "cell_type": "code",
   "execution_count": null,
   "metadata": {},
   "outputs": [],
   "source": [
    "crashed = False\n",
    "while not crashed:\n",
    "    for vehicle in world.get_actors().filter(\"vehicle*\"):\n",
    "        if vehicle != ego_vehicle:\n",
    "            distance = ego_vehicle.get_location().distance(vehicle.get_location())\n",
    "            if distance < 100:\n",
    "                loc = vehicle.get_location()\n",
    "                loc.z += 4\n",
    "                world.debug.draw_string(loc, f'{distance:.1f} m')"
   ]
  },
  {
   "cell_type": "markdown",
   "metadata": {},
   "source": [
    "Reference: https://carla.readthedocs.io/en/latest/tuto_G_bounding_boxes/  (worked properly)"
   ]
  },
  {
   "cell_type": "code",
   "execution_count": null,
   "metadata": {},
   "outputs": [],
   "source": [
    "import carla\n",
    "import math\n",
    "import random\n",
    "import time\n",
    "import queue\n",
    "import numpy as np\n",
    "import cv2\n",
    "\n",
    "client = carla.Client('localhost', 2000)\n",
    "world  = client.get_world()\n",
    "bp_lib = world.get_blueprint_library()\n",
    "\n",
    "# spawn vehicle\n",
    "vehicle_bp =bp_lib.find('vehicle.lincoln.mkz_2020')\n",
    "vehicle = world.try_spawn_actor(vehicle_bp, random.choice(world.get_map().get_spawn_points()))\n",
    "\n",
    "# spawn camera\n",
    "camera_bp = bp_lib.find('sensor.camera.rgb')\n",
    "camera_init_trans = carla.Transform(carla.Location(z=2))\n",
    "camera = world.spawn_actor(camera_bp, camera_init_trans, attach_to=vehicle)\n",
    "vehicle.set_autopilot(True)\n",
    "\n",
    "# Set up the simulator in synchronous mode\n",
    "settings = world.get_settings()\n",
    "settings.synchronous_mode = True # Enables synchronous mode\n",
    "settings.fixed_delta_seconds = 0.05\n",
    "world.apply_settings(settings)\n",
    "\n",
    "for i in range(10):\n",
    "    bp = random.choice(world.get_blueprint_library().filter('*vehicle*'))\n",
    "    transform = random.choice(world.get_map().get_spawn_points())\n",
    "    vv = world.try_spawn_actor(bp, transform)\n",
    "    vv.set_autopilot(True)\n",
    "\n",
    "# Create a queue to store and retrieve the sensor data\n",
    "image_queue = queue.Queue()\n",
    "camera.listen(image_queue.put)\n",
    "\n",
    "edges = [[0,1], [1,3], [3,2], [2,0], [0,4], [4,5], [5,1], [5,7], [7,6], [6,4], [6,2], [7,3]]\n"
   ]
  },
  {
   "cell_type": "code",
   "execution_count": null,
   "metadata": {},
   "outputs": [],
   "source": [
    "def get_image_point(loc, K, w2c):\n",
    "        # Calculate 2D projection of 3D coordinate\n",
    "\n",
    "        # Format the input coordinate (loc is a carla.Position object)\n",
    "        point = np.array([loc.x, loc.y, loc.z, 1])\n",
    "        # transform to camera coordinates\n",
    "        point_camera = np.dot(w2c, point)\n",
    "\n",
    "        # New we must change from UE4's coordinate system to an \"standard\"\n",
    "        # (x, y ,z) -> (y, -z, x)\n",
    "        # and we remove the fourth componebonent also\n",
    "        point_camera = [point_camera[1], -point_camera[2], point_camera[0]]\n",
    "\n",
    "        # now project 3D->2D using the camera matrix\n",
    "        point_img = np.dot(K, point_camera)\n",
    "        # normalize\n",
    "        point_img[0] /= point_img[2]\n",
    "        point_img[1] /= point_img[2]\n",
    "\n",
    "        return point_img[0:2]"
   ]
  },
  {
   "cell_type": "code",
   "execution_count": null,
   "metadata": {},
   "outputs": [],
   "source": [
    "def build_projection_matrix(w, h, fov):\n",
    "    focal = w / (2.0 * np.tan(fov * np.pi / 360.0))\n",
    "    K = np.identity(3)\n",
    "    K[0, 0] = K[1, 1] = focal\n",
    "    K[0, 2] = w / 2.0\n",
    "    K[1, 2] = h / 2.0\n",
    "    return K"
   ]
  },
  {
   "cell_type": "markdown",
   "metadata": {},
   "source": [
    "3D boxes around vehicles"
   ]
  },
  {
   "cell_type": "code",
   "execution_count": null,
   "metadata": {},
   "outputs": [],
   "source": [
    "# 3D\n",
    "while True:\n",
    "    # Retrieve and reshape the image\n",
    "    world.tick()\n",
    "    image = image_queue.get()\n",
    "\n",
    "    img = np.reshape(np.copy(image.raw_data), (image.height, image.width, 4))\n",
    "\n",
    "    # Get the camera matrix \n",
    "    world_2_camera = np.array(camera.get_transform().get_inverse_matrix())\n",
    "    # Get the attributes from the camera\n",
    "    image_w = camera_bp.get_attribute(\"image_size_x\").as_int()\n",
    "    image_h = camera_bp.get_attribute(\"image_size_y\").as_int()\n",
    "    fov = camera_bp.get_attribute(\"fov\").as_float()\n",
    "\n",
    "    # Calculate the camera projection matrix to project from 3D -> 2D\n",
    "    K = build_projection_matrix(image_w, image_h, fov)\n",
    "\n",
    "    for npc in world.get_actors().filter('*vehicle*'):\n",
    "\n",
    "        # Filter out the ego vehicle\n",
    "        if npc.id != vehicle.id:\n",
    "\n",
    "            bb = npc.bounding_box\n",
    "            dist = npc.get_transform().location.distance(vehicle.get_transform().location)\n",
    "\n",
    "            # Filter for the vehicles within 50m\n",
    "            if dist < 50:\n",
    "\n",
    "            # Calculate the dot product between the forward vector\n",
    "            # of the vehicle and the vector between the vehicle\n",
    "            # and the other vehicle. We threshold this dot product\n",
    "            # to limit to drawing bounding boxes IN FRONT OF THE CAMERA\n",
    "                forward_vec = vehicle.get_transform().get_forward_vector()\n",
    "                ray = npc.get_transform().location - vehicle.get_transform().location\n",
    "\n",
    "                if forward_vec.dot(ray) > 1:\n",
    "                    p1 = get_image_point(bb.location, K, world_2_camera)\n",
    "                    verts = [v for v in bb.get_world_vertices(npc.get_transform())]\n",
    "                    for edge in edges:\n",
    "                        p1 = get_image_point(verts[edge[0]], K, world_2_camera)\n",
    "                        p2 = get_image_point(verts[edge[1]],  K, world_2_camera)\n",
    "                        cv2.line(img, (int(p1[0]),int(p1[1])), (int(p2[0]),int(p2[1])), (255,0,0, 255), 1)        \n",
    "\n",
    "    cv2.imshow('ImageWindowName',img)\n",
    "    if cv2.waitKey(1) == ord('q'):\n",
    "        break\n",
    "cv2.destroyAllWindows()"
   ]
  },
  {
   "cell_type": "markdown",
   "metadata": {},
   "source": [
    "2D boxes around vehicles"
   ]
  },
  {
   "cell_type": "code",
   "execution_count": null,
   "metadata": {},
   "outputs": [],
   "source": [
    "# 2D\n",
    "while True:\n",
    "\n",
    "    # Retrieve and reshape the image\n",
    "    world.tick()\n",
    "    image = image_queue.get()\n",
    "\n",
    "    img = np.reshape(np.copy(image.raw_data), (image.height, image.width, 4))\n",
    "\n",
    "    # Get the camera matrix \n",
    "    world_2_camera = np.array(camera.get_transform().get_inverse_matrix())\n",
    "    # Get the attributes from the camera\n",
    "    image_w = camera_bp.get_attribute(\"image_size_x\").as_int()\n",
    "    image_h = camera_bp.get_attribute(\"image_size_y\").as_int()\n",
    "    fov = camera_bp.get_attribute(\"fov\").as_float()\n",
    "\n",
    "    # Calculate the camera projection matrix to project from 3D -> 2D\n",
    "    K = build_projection_matrix(image_w, image_h, fov)\n",
    "\n",
    "    for npc in world.get_actors().filter('*vehicle*'):\n",
    "\n",
    "        # Filter out the ego vehicle\n",
    "        if npc.id != vehicle.id:\n",
    "\n",
    "            bb = npc.bounding_box\n",
    "            dist = npc.get_transform().location.distance(vehicle.get_transform().location)\n",
    "\n",
    "            # Filter for the vehicles within 50m\n",
    "            if dist < 50:\n",
    "\n",
    "            # Calculate the dot product between the forward vector\n",
    "            # of the vehicle and the vector between the vehicle\n",
    "            # and the other vehicle. We threshold this dot product\n",
    "            # to limit to drawing bounding boxes IN FRONT OF THE CAMERA\n",
    "                forward_vec = vehicle.get_transform().get_forward_vector()\n",
    "                ray = npc.get_transform().location - vehicle.get_transform().location\n",
    "\n",
    "                if forward_vec.dot(ray) > 1:\n",
    "                    p1 = get_image_point(bb.location, K, world_2_camera)\n",
    "                    verts = [v for v in bb.get_world_vertices(npc.get_transform())]\n",
    "                    x_max = -10000\n",
    "                    x_min = 10000\n",
    "                    y_max = -10000\n",
    "                    y_min = 10000\n",
    "\n",
    "                    for vert in verts:\n",
    "                        p = get_image_point(vert, K, world_2_camera)\n",
    "                        # Find the rightmost vertex\n",
    "                        if p[0] > x_max:\n",
    "                            x_max = p[0]\n",
    "                        # Find the leftmost vertex\n",
    "                        if p[0] < x_min:\n",
    "                            x_min = p[0]\n",
    "                        # Find the highest vertex\n",
    "                        if p[1] > y_max:\n",
    "                            y_max = p[1]\n",
    "                        # Find the lowest  vertex\n",
    "                        if p[1] < y_min:\n",
    "                            y_min = p[1]\n",
    "\n",
    "                    cv2.line(img, (int(x_min),int(y_min)), (int(x_max),int(y_min)), (0,0,255, 255), 1)\n",
    "                    cv2.line(img, (int(x_min),int(y_max)), (int(x_max),int(y_max)), (0,0,255, 255), 1)\n",
    "                    cv2.line(img, (int(x_min),int(y_min)), (int(x_min),int(y_max)), (0,0,255, 255), 1)\n",
    "                    cv2.line(img, (int(x_max),int(y_min)), (int(x_max),int(y_max)), (0,0,255, 255), 1)\n",
    "\n",
    "\n",
    "    cv2.imshow('ImageWindowName',img)\n",
    "    if cv2.waitKey(1) == ord('q'):\n",
    "        break\n",
    "cv2.destroyAllWindows()"
   ]
  },
  {
   "cell_type": "code",
   "execution_count": null,
   "metadata": {},
   "outputs": [],
   "source": []
  },
  {
   "cell_type": "markdown",
   "metadata": {},
   "source": [
    "For camera calibration, vehicle sizing procedure"
   ]
  },
  {
   "cell_type": "code",
   "execution_count": null,
   "metadata": {},
   "outputs": [],
   "source": [
    "import carla\n",
    "import math\n",
    "import random\n",
    "import time\n",
    "import queue\n",
    "import numpy as np\n",
    "import cv2\n",
    "\n",
    "client = carla.Client('localhost', 2000)\n",
    "world  = client.get_world()\n",
    "bp_lib = world.get_blueprint_library()\n",
    "\n",
    "for actor in world.get_actors():\n",
    "    if actor.type_id[:7] == \"vehicle\":\n",
    "        vehicle = actor"
   ]
  },
  {
   "cell_type": "code",
   "execution_count": null,
   "metadata": {},
   "outputs": [],
   "source": [
    "bounding_box = ego_vehicle.bounding_box\n",
    "verts = [v for v in bounding_box.get_world_vertices(ego_vehicle.get_transform())]\n",
    "for v in verts:\n",
    "    print(v)"
   ]
  },
  {
   "cell_type": "code",
   "execution_count": null,
   "metadata": {},
   "outputs": [],
   "source": []
  },
  {
   "cell_type": "code",
   "execution_count": null,
   "metadata": {},
   "outputs": [],
   "source": []
  },
  {
   "cell_type": "markdown",
   "metadata": {},
   "source": [
    "Extract Local speed of vehicle "
   ]
  },
  {
   "cell_type": "code",
   "execution_count": null,
   "metadata": {},
   "outputs": [],
   "source": [
    "import carla\n",
    "import random\n",
    "import time\n",
    "import numpy as np\n",
    "\n",
    "client = carla.Client('localhost', 2000)\n",
    "client.set_timeout(2.0)\n",
    "world = client.get_world()\n",
    "\n",
    "# Create a synchronous mode context\n",
    "settings = world.get_settings()\n",
    "settings.synchronous_mode = True\n",
    "settings.fixed_delta_seconds = 0.1  # Simulation step size in seconds\n",
    "world.apply_settings(settings)"
   ]
  },
  {
   "cell_type": "code",
   "execution_count": null,
   "metadata": {},
   "outputs": [],
   "source": [
    "ego_vehicle = None\n",
    "while ego_vehicle is None:\n",
    "    print(\"Waiting for the ego vehicle...\")\n",
    "    time.sleep(1)\n",
    "    possible_vehicles = world.get_actors().filter('vehicle.*')\n",
    "    for vehicle in possible_vehicles:\n",
    "        if vehicle.attributes['role_name'] == 'hero':\n",
    "            print(\"Ego vehicle found\")\n",
    "            ego_vehicle = vehicle\n",
    "            break"
   ]
  },
  {
   "cell_type": "code",
   "execution_count": null,
   "metadata": {},
   "outputs": [],
   "source": [
    "bp = random.choice(world.get_blueprint_library().filter('*vehicle*'))\n",
    "transform = random.choice(world.get_map().get_spawn_points())\n",
    "ego_vehicle = world.try_spawn_actor(bp, transform)\n",
    "if ego_vehicle != None:\n",
    "    ego_vehicle.set_autopilot(True)\n",
    "    print(ego_vehicle.type_id)"
   ]
  },
  {
   "cell_type": "code",
   "execution_count": null,
   "metadata": {},
   "outputs": [],
   "source": [
    "vehicles = []\n",
    "for i in range(20):\n",
    "    bp = random.choice(world.get_blueprint_library().filter('*vehicle*'))\n",
    "    transform = random.choice(world.get_map().get_spawn_points())\n",
    "    tmp_vehicle = world.try_spawn_actor(bp, transform)\n",
    "    if tmp_vehicle != None:\n",
    "        tmp_vehicle.set_autopilot(True)\n",
    "        vehicles.append(tmp_vehicle)\n"
   ]
  },
  {
   "cell_type": "code",
   "execution_count": null,
   "metadata": {},
   "outputs": [],
   "source": [
    "#############\n",
    "def get_vehicle_lon_speed(ego_vehicle: carla.Vehicle, second_vehicle: carla.Vehicle):\n",
    "        \"\"\"\n",
    "                Get the longitudinal speed of a carla vehicle\n",
    "                :param carla_vehicle: the carla vehicle\n",
    "                :type carla_vehicle: carla.Vehicle\n",
    "                :return: speed of a carla vehicle [m/s]\n",
    "                :rtype: float64\n",
    "        \"\"\"\n",
    "        ego_velocity = ego_vehicle.get_velocity()\n",
    "        second_velocity = second_vehicle.get_velocity()\n",
    "        vec4 = np.array([second_velocity.x - ego_velocity.x,\n",
    "                        second_velocity.y - ego_velocity.y,\n",
    "                        second_velocity.z - ego_velocity.z,\n",
    "                        1]).reshape(4, 1)\n",
    "        carla_trans = np.array(ego_vehicle.get_transform().get_matrix())\n",
    "        carla_trans.reshape(4, 4)\n",
    "        carla_trans[0:3, 3] = 0.0\n",
    "        vel_in_vehicle = np.linalg.inv(carla_trans) @ vec4\n",
    "        return vel_in_vehicle[0]"
   ]
  },
  {
   "cell_type": "code",
   "execution_count": null,
   "metadata": {},
   "outputs": [],
   "source": [
    "#############\n",
    "while True:\n",
    "    world.tick()\n",
    "    for vehicle in vehicles:\n",
    "        rel_vel = get_vehicle_lon_speed(ego_vehicle, vehicle)\n",
    "        dist = ego_vehicle.get_location().distance(vehicle.get_location())\n",
    "        if (abs(dist)/rel_vel < 2):\n",
    "            print(f\"-------- Collision with {vehicle.type_id}--------\")\n",
    "        else:\n",
    "            print(\"-------- OK --------\")"
   ]
  },
  {
   "cell_type": "code",
   "execution_count": null,
   "metadata": {},
   "outputs": [],
   "source": [
    "#$$$$$$$$$$$$$$$$$$$$$$$$$$$\n",
    "def get_vehicle_lon_speed(ego_vehicle: carla.Vehicle):\n",
    "        \"\"\"\n",
    "                Get the longitudinal speed of a carla vehicle\n",
    "                :param carla_vehicle: the carla vehicle\n",
    "                :type carla_vehicle: carla.Vehicle\n",
    "                :return: speed of a carla vehicle [m/s]\n",
    "                :rtype: float64\n",
    "        \"\"\"\n",
    "        ego_velocity = ego_vehicle.get_velocity()\n",
    "        vec4 = np.array([ego_velocity.x,\n",
    "                        ego_velocity.y,\n",
    "                        ego_velocity.z,\n",
    "                        1]).reshape(4, 1)\n",
    "        carla_trans = np.array(ego_vehicle.get_transform().get_matrix())\n",
    "        carla_trans.reshape(4, 4)\n",
    "        carla_trans[0:3, 3] = 0.0\n",
    "        vel_in_vehicle = np.linalg.inv(carla_trans) @ vec4\n",
    "        return vel_in_vehicle[0]"
   ]
  },
  {
   "cell_type": "code",
   "execution_count": null,
   "metadata": {},
   "outputs": [],
   "source": [
    "#$$$$$$$$$$$$$$$$$$$$$$$$$$$\n",
    "spectator = world.get_spectator()\n",
    "while True:\n",
    "    world.tick()\n",
    "    transform = ego_vehicle.get_transform()\n",
    "    spectator.set_transform(carla.Transform(transform.location + carla.Location(z=30),carla.Rotation(pitch=-90)))\n",
    "    time.sleep(1)\n",
    "    for vehicle in vehicles:\n",
    "        ego_vel = get_vehicle_lon_speed(ego_vehicle)\n",
    "        veh_vel = get_vehicle_lon_speed(vehicle)\n",
    "        rel_vel = veh_vel - ego_vel\n",
    "        dist = ego_vehicle.get_location().distance(vehicle.get_location())\n",
    "        if (abs(dist)/rel_vel < 2):\n",
    "            print(f\"-------- Collision with {vehicle.type_id}--------\")\n",
    "        else:\n",
    "            print(\"-------- OK --------\")\n",
    "    print(\"\", flush=True)"
   ]
  }
 ],
 "metadata": {
  "kernelspec": {
   "display_name": "carla",
   "language": "python",
   "name": "python3"
  },
  "language_info": {
   "codemirror_mode": {
    "name": "ipython",
    "version": 3
   },
   "file_extension": ".py",
   "mimetype": "text/x-python",
   "name": "python",
   "nbconvert_exporter": "python",
   "pygments_lexer": "ipython3",
   "version": "3.7.16"
  },
  "orig_nbformat": 4
 },
 "nbformat": 4,
 "nbformat_minor": 2
}
