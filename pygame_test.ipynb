{
 "cells": [
  {
   "cell_type": "code",
   "execution_count": 1,
   "metadata": {},
   "outputs": [],
   "source": [
    "import glob \n",
    "import os\n",
    "import sys\n",
    "\n",
    "try:\n",
    "    sys.path.append(glob.glob('../carla/dist/carla-*%d.%d-%s.egg' % (\n",
    "        sys.version_info.major,\n",
    "        sys.version_info.minor,\n",
    "        'win-amd64' if os.name == 'nt' else 'linux-x86_64'))[0])\n",
    "except IndexError:\n",
    "    pass\n",
    "\n",
    "import carla\n",
    "import random"
   ]
  },
  {
   "cell_type": "code",
   "execution_count": 2,
   "metadata": {},
   "outputs": [],
   "source": [
    "client = carla.Client('localhost', 2000)\n",
    "client.set_timeout(2.0)\n",
    "\n",
    "world = client.get_world()\n",
    "blueprint_library = world.get_blueprint_library()"
   ]
  },
  {
   "cell_type": "code",
   "execution_count": 3,
   "metadata": {},
   "outputs": [],
   "source": [
    "# Set up the simulator in synchronous mode\n",
    "settings = world.get_settings()\n",
    "original_settings = settings\n",
    "settings.synchronous_mode = True\n",
    "settings.fixed_delta_seconds = 0.1\n",
    "world.apply_settings(settings)\n",
    "\n",
    "# Set up the TM in synchronous mode\n",
    "traffic_manager = client.get_trafficmanager()\n",
    "traffic_manager.set_synchronous_mode(True)\n",
    "\n",
    "# Set a seed so behaviour can be repeated if necessary\n",
    "traffic_manager.set_random_device_seed(0)\n",
    "random.seed(0)"
   ]
  },
  {
   "cell_type": "code",
   "execution_count": 4,
   "metadata": {},
   "outputs": [],
   "source": [
    "models = ['dodge', 'audi', 'model3', 'mini', 'mustang', 'lincoln', 'prius', 'nissan', 'crown', 'impala']\n",
    "blueprints = []\n",
    "for vehicle in blueprint_library.filter('*vehicle*'):\n",
    "    if any(model in vehicle.id for model in models):\n",
    "        blueprints.append(vehicle)"
   ]
  },
  {
   "cell_type": "code",
   "execution_count": 5,
   "metadata": {},
   "outputs": [],
   "source": [
    "bp = random.choice(blueprints)"
   ]
  },
  {
   "cell_type": "code",
   "execution_count": 6,
   "metadata": {},
   "outputs": [],
   "source": [
    "spawn_points = world.get_map().get_spawn_points()"
   ]
  },
  {
   "cell_type": "code",
   "execution_count": 7,
   "metadata": {},
   "outputs": [],
   "source": [
    "n = 10\n",
    "vehicles = []\n",
    "for i, x in enumerate(random.sample(spawn_points, n)):\n",
    "    temp = world.try_spawn_actor(random.choice(blueprints), x)\n",
    "    if temp is not None:\n",
    "        temp.set_autopilot(True)\n",
    "        traffic_manager.ignore_lights_percentage(temp, random.randint(0,50))\n",
    "        vehicles.append(temp)"
   ]
  },
  {
   "cell_type": "code",
   "execution_count": 9,
   "metadata": {},
   "outputs": [],
   "source": [
    "ego_vehicle = random.choice(vehicles)"
   ]
  },
  {
   "cell_type": "code",
   "execution_count": 10,
   "metadata": {},
   "outputs": [],
   "source": [
    "camera_init_trans = carla.Transform(carla.Location(x=-5, z=3), carla.Rotation(pitch=-20))\n",
    "camera_bp = blueprint_library.find('sensor.camera.rgb')\n",
    "camera = world.spawn_actor(camera_bp, camera_init_trans, attach_to=ego_vehicle)"
   ]
  },
  {
   "cell_type": "code",
   "execution_count": null,
   "metadata": {},
   "outputs": [],
   "source": [
    "import pygame\n",
    "import numpy as np\n",
    "\n",
    "class RenderObject(object):\n",
    "    def __init__(self, width, height):\n",
    "        init_image = np.random.randint(0,255,(height,width,3),dtype='uint8')\n",
    "        self.surface = pygame.surfarray.make_surface(init_image.swapaxes(0,1))\n",
    "\n",
    "# Camera sensor callback, reshapes raw data from camera into 2D RGB and applies to PyGame surface\n",
    "def pygame_callback(data, obj):\n",
    "    img = np.reshape(np.copy(data.raw_data), (data.height, data.width, 4))\n",
    "    img = img[:,:,:3]\n",
    "    img = img[:, :, ::-1]\n",
    "    obj.surface = pygame.surfarray.make_surface(img.swapaxes(0,1))"
   ]
  },
  {
   "cell_type": "code",
   "execution_count": null,
   "metadata": {},
   "outputs": [],
   "source": [
    "camera.listen(lambda image: pygame_callback(image, RenderObject))"
   ]
  },
  {
   "cell_type": "code",
   "execution_count": null,
   "metadata": {},
   "outputs": [],
   "source": [
    "image_w = camera_bp.get_attribute(\"image_size_x\").as_int()\n",
    "image_h = camera_bp.get_attribute(\"image_size_y\").as_int()"
   ]
  },
  {
   "cell_type": "code",
   "execution_count": null,
   "metadata": {},
   "outputs": [],
   "source": [
    "renderObject = RenderObject(image_w, image_h)"
   ]
  },
  {
   "cell_type": "code",
   "execution_count": null,
   "metadata": {},
   "outputs": [],
   "source": [
    "pygame.init()\n",
    "gameDisplay = pygame.display.set_mode((image_w,image_h), pygame.HWSURFACE | pygame.DOUBLEBUF)\n",
    "# Draw black to the display\n",
    "gameDisplay.fill((0,0,0))\n",
    "gameDisplay.blit(renderObject.surface, (0,0))\n",
    "pygame.display.flip()"
   ]
  },
  {
   "cell_type": "code",
   "execution_count": null,
   "metadata": {},
   "outputs": [],
   "source": [
    "crashed = False\n",
    "\n",
    "while not crashed:\n",
    "    # Advance the simulation time\n",
    "    world.tick()\n",
    "    # Update the display\n",
    "    gameDisplay.blit(renderObject.surface, (0,0))\n",
    "    pygame.display.flip()\n",
    "\n",
    "    # Collect key press events\n",
    "    for event in pygame.event.get():\n",
    "        # If the window is closed, break the while loop\n",
    "        if event.type == pygame.QUIT:\n",
    "            pygame.quit()\n",
    "            if (world and world.recording_enabled):\n",
    "                client.stop_recorder()\n",
    "            if world is not None:\n",
    "                world.destroy()\n",
    "            crashed = True\n",
    "\n",
    "        if event.type == pygame.KEYUP:\n",
    "            if event.key == pygame.K_RETURN:\n",
    "                ego_vehicle.set_autopilot(False)\n",
    "            # TAB key switches vehicle\n",
    "            if event.key == pygame.K_TAB:\n",
    "                ego_vehicle.set_autopilot(True)\n",
    "                ego_vehicle = random.choice(vehicles)\n",
    "                # Ensure vehicle is still alive (might have been destroyed)\n",
    "                if ego_vehicle.is_alive:\n",
    "                    # Stop and remove the camera\n",
    "                    camera.stop()\n",
    "                    camera.destroy()\n",
    "\n",
    "                    camera = world.spawn_actor(camera_bp, camera_init_trans, attach_to=ego_vehicle)\n",
    "                    camera.listen(lambda image: pygame_callback(image, renderObject))\n",
    "\n",
    "                    # Update PyGame window\n",
    "                    gameDisplay.fill((0,0,0))               \n",
    "                    gameDisplay.blit(renderObject.surface, (0,0))\n",
    "                    pygame.display.flip()\n"
   ]
  },
  {
   "cell_type": "code",
   "execution_count": 12,
   "metadata": {},
   "outputs": [
    {
     "name": "stdout",
     "output_type": "stream",
     "text": [
      "190\n",
      "191\n",
      "192\n",
      "193\n",
      "194\n",
      "195\n",
      "196\n",
      "197\n",
      "198\n",
      "199\n"
     ]
    }
   ],
   "source": [
    "for x in vehicles:\n",
    "    print(x.id)"
   ]
  },
  {
   "cell_type": "code",
   "execution_count": 34,
   "metadata": {},
   "outputs": [],
   "source": [
    "ego2 = world.get_actor(195)"
   ]
  },
  {
   "cell_type": "code",
   "execution_count": 23,
   "metadata": {},
   "outputs": [
    {
     "name": "stdout",
     "output_type": "stream",
     "text": [
      "Actor(id=193, type=vehicle.dodge.charger_police)\n"
     ]
    }
   ],
   "source": [
    "print(ego2)"
   ]
  },
  {
   "cell_type": "code",
   "execution_count": 24,
   "metadata": {},
   "outputs": [
    {
     "name": "stdout",
     "output_type": "stream",
     "text": [
      "Actor(id=195, type=vehicle.audi.tt)\n"
     ]
    }
   ],
   "source": [
    "print(ego_vehicle)"
   ]
  },
  {
   "cell_type": "code",
   "execution_count": 35,
   "metadata": {},
   "outputs": [
    {
     "name": "stdout",
     "output_type": "stream",
     "text": [
      "0.0\n"
     ]
    }
   ],
   "source": [
    "d = ego_vehicle.get_location().distance(ego2.get_location())\n",
    "print(d)"
   ]
  },
  {
   "cell_type": "code",
   "execution_count": null,
   "metadata": {},
   "outputs": [],
   "source": []
  }
 ],
 "metadata": {
  "kernelspec": {
   "display_name": "carla",
   "language": "python",
   "name": "python3"
  },
  "language_info": {
   "codemirror_mode": {
    "name": "ipython",
    "version": 3
   },
   "file_extension": ".py",
   "mimetype": "text/x-python",
   "name": "python",
   "nbconvert_exporter": "python",
   "pygments_lexer": "ipython3",
   "version": "3.7.16"
  },
  "orig_nbformat": 4
 },
 "nbformat": 4,
 "nbformat_minor": 2
}
